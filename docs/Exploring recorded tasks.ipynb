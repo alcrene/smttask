{
 "cells": [
  {
   "cell_type": "markdown",
   "metadata": {},
   "source": [
    "# Finding records\n",
    "\n",
    "Projects quickly accumulate thousands of recorded tasks, and finding particular results can be like finding a needle in a haystack. In theory all of the execution information is recorded in a Sumatra *data store* (in particular the execution time and duration, task and parameters, and the location of output files); the examples below show different methods to query that database and reload results from within a Jupyter notebook.\n",
    "\n",
    "> By design, only *RecordedTasks* are saved to the Sumatra database. *MemoizedTasks* are not.\n",
    "\n",
    "**TODO**: Create a demo project within the *smttask* repo and use that instead of *IndEEG*.\n",
    "\n",
    "**NOTE**: The visualization tools have improved since this document was written. Until we have proper auto-built API documentation, for the most up to date version, please peruse the source code of [smttask.view.recordstoreviewer](../smttask/view/recordstoreviewer.py)."
   ]
  },
  {
   "cell_type": "code",
   "execution_count": 1,
   "metadata": {},
   "outputs": [],
   "source": [
    "import IndEEG\n",
    "IndEEG.setup('theano', view_only=True)\n",
    "import sinn"
   ]
  },
  {
   "cell_type": "code",
   "execution_count": 2,
   "metadata": {},
   "outputs": [],
   "source": [
    "import smttask\n",
    "import smttask.utils\n",
    "from tqdm.auto import tqdm\n",
    "from IndEEG.parameters import ParameterSet  # Customized version of parameters.ParameterSet\n",
    "from mackelab_toolbox.utils import print_api\n",
    "from mackelab_toolbox.parameters import dfdiff, ParameterComparison"
   ]
  },
  {
   "cell_type": "markdown",
   "metadata": {},
   "source": [
    "*smttask* provides the `RecordStoreView` class for interfacing with the record store. It can be called without arguments if the current directory is within the tracked project."
   ]
  },
  {
   "cell_type": "code",
   "execution_count": 3,
   "metadata": {},
   "outputs": [],
   "source": [
    "rsview = smttask.RecordStoreView().filter.tags(\"finished\")"
   ]
  },
  {
   "cell_type": "markdown",
   "metadata": {},
   "source": [
    "> Smttask follows the behaviour of Sumatra and automatically tags records during execution, to track their status. These status tags are:\n",
    ">   + **\\_\\_initialized\\_\\_**  — Task terminated before starting to run\n",
    ">   + **\\_\\_running\\_\\_**  – Task is still running\n",
    ">   + **\\_\\_crashed\\_\\_**   – Task terminated prematurely with an error\n",
    ">   + **\\_\\_killed\\_\\_**   – Task was killed\n",
    ">   + **\\_\\_finished\\_\\_** – Task completed successfully.\n",
    ">\n",
    "> An initial filter for **\\_\\_finished\\_\\_** tags is computationally very cheap, and avoids iterating over incomplete runs.\n",
    "> The filtering mechanism is explained [below](#Filtering)."
   ]
  },
  {
   "cell_type": "markdown",
   "metadata": {},
   "source": [
    "`RecordStoreView` wraps an iterable over the records, which may or may not be consumable. Without any additional filtering, this iterable is over the entire record store.\n",
    "Iterating over records can be slow; calling `.list` on the record store view will make it cache the records internally as a list, much accelerating further iterations."
   ]
  },
  {
   "cell_type": "code",
   "execution_count": 4,
   "metadata": {},
   "outputs": [],
   "source": [
    "rsview.list;"
   ]
  },
  {
   "cell_type": "markdown",
   "metadata": {},
   "source": [
    "## Record list summary\n",
    "\n",
    "`RecordStoreView` provides the property `summary` (of type `RecordStoreViewSummary`), which in a notebook displays as a Pandas *Dataframe* summarising the records. This is a good way to get an initial overview of a data store, or to view the result after the list has been filtered (see [Filtering](#Filtering)).\n",
    "\n",
    "The output can be adjust with the following methods:\n",
    "\n",
    "- `merged` (property): Combine records with similar labels (by default, the same timestamp; type `RecordStoreViewSummary?` for instructions for how to change the merge pattern). The number of merged records is displayed in each row.\n",
    "- `unmerged` (property): Inverts the `merged` operation.\n",
    "- `head(nrows)`: Restrict the summary to the first `nrows`.\n",
    "- `tail(nrows)`: Restrict the summary to the last `nrows`.\n",
    "- `dataframe(...)`: Return the *Dataframe* used for display. Arguments are provided to adjust the content:\n",
    "  + *fields*: Which fields to include as columns in the dataframe. Default: *reason*, *outcome*, *tags*, *main_file* *duration*.\n",
    "  + *parameters*: Which parameters to include; specified as tuples of string; snested parameters can be specified with dots.\n",
    "  + *max_chars*: Truncate columns to this number of characters.\n",
    "  + *max_lines*: Keep only this number of lines from a field, even if more lines would fit within the character limit."
   ]
  },
  {
   "cell_type": "code",
   "execution_count": 5,
   "metadata": {},
   "outputs": [
    {
     "data": {
      "text/html": [
       "<div>\n",
       "<style scoped>\n",
       "    .dataframe tbody tr th:only-of-type {\n",
       "        vertical-align: middle;\n",
       "    }\n",
       "\n",
       "    .dataframe tbody tr th {\n",
       "        vertical-align: top;\n",
       "    }\n",
       "\n",
       "    .dataframe thead th {\n",
       "        text-align: right;\n",
       "    }\n",
       "</style>\n",
       "<table border=\"1\" class=\"dataframe\">\n",
       "  <thead>\n",
       "    <tr style=\"text-align: right;\">\n",
       "      <th></th>\n",
       "      <th># records</th>\n",
       "      <th>reason</th>\n",
       "      <th>outcome</th>\n",
       "      <th>tags</th>\n",
       "      <th>main_file</th>\n",
       "      <th>avg<br>. duration</th>\n",
       "    </tr>\n",
       "  </thead>\n",
       "  <tbody>\n",
       "    <tr>\n",
       "      <th>20201006-142712</th>\n",
       "      <td>1</td>\n",
       "      <td>Hyperparameter exploration</td>\n",
       "      <td></td>\n",
       "      <td>_finished_</td>\n",
       "      <td>…cherche/Individualized_EEG/IndEEG/IndEEG/tasks.py</td>\n",
       "      <td>3h 52m 39s</td>\n",
       "    </tr>\n",
       "    <tr>\n",
       "      <th>20201006-125319</th>\n",
       "      <td>1</td>\n",
       "      <td>Hyperparameter exploration</td>\n",
       "      <td></td>\n",
       "      <td>_finished_</td>\n",
       "      <td>…cherche/Individualized_EEG/IndEEG/IndEEG/tasks.py</td>\n",
       "      <td>1h 44m 02s</td>\n",
       "    </tr>\n",
       "    <tr>\n",
       "      <th>20201006-125318</th>\n",
       "      <td>2</td>\n",
       "      <td>Hyperparameter exploration</td>\n",
       "      <td></td>\n",
       "      <td>_finished_</td>\n",
       "      <td>…cherche/Individualized_EEG/IndEEG/IndEEG/tasks.py</td>\n",
       "      <td>2h 03m 04s</td>\n",
       "    </tr>\n",
       "    <tr>\n",
       "      <th>20201006-125317</th>\n",
       "      <td>11</td>\n",
       "      <td>Hyperparameter exploration</td>\n",
       "      <td></td>\n",
       "      <td>_finished_</td>\n",
       "      <td>…cherche/Individualized_EEG/IndEEG/IndEEG/tasks.py</td>\n",
       "      <td>2h 38m 18s</td>\n",
       "    </tr>\n",
       "    <tr>\n",
       "      <th>20201005-103123</th>\n",
       "      <td>2</td>\n",
       "      <td>Hyperparameter exploration</td>\n",
       "      <td></td>\n",
       "      <td>_finished_</td>\n",
       "      <td>…cherche/Individualized_EEG/IndEEG/IndEEG/tasks.py</td>\n",
       "      <td>2h 36m 13s</td>\n",
       "    </tr>\n",
       "    <tr>\n",
       "      <th>20201005-103122</th>\n",
       "      <td>11</td>\n",
       "      <td>Hyperparameter exploration</td>\n",
       "      <td></td>\n",
       "      <td>_finished_</td>\n",
       "      <td>…cherche/Individualized_EEG/IndEEG/IndEEG/tasks.py</td>\n",
       "      <td>3h 57m 15s</td>\n",
       "    </tr>\n",
       "    <tr>\n",
       "      <th>20201004-202839</th>\n",
       "      <td>2</td>\n",
       "      <td>Hyperparameter exploration</td>\n",
       "      <td></td>\n",
       "      <td>_finished_</td>\n",
       "      <td>…cherche/Individualized_EEG/IndEEG/IndEEG/tasks.py</td>\n",
       "      <td>2h 02m 09s</td>\n",
       "    </tr>\n",
       "    <tr>\n",
       "      <th>20201004-202838</th>\n",
       "      <td>9</td>\n",
       "      <td>Hyperparameter exploration</td>\n",
       "      <td></td>\n",
       "      <td>_finished_</td>\n",
       "      <td>…cherche/Individualized_EEG/IndEEG/IndEEG/tasks.py</td>\n",
       "      <td>3h 16m 14s</td>\n",
       "    </tr>\n",
       "    <tr>\n",
       "      <th>20200924-235015</th>\n",
       "      <td>1</td>\n",
       "      <td>Test fix to rightmost batch</td>\n",
       "      <td></td>\n",
       "      <td>_finished_</td>\n",
       "      <td>…cherche/Individualized_EEG/IndEEG/IndEEG/tasks.py</td>\n",
       "      <td>6h 35m 55s</td>\n",
       "    </tr>\n",
       "    <tr>\n",
       "      <th>20200916-162115</th>\n",
       "      <td>1</td>\n",
       "      <td>Hyperparameter exploration</td>\n",
       "      <td></td>\n",
       "      <td>_finished_</td>\n",
       "      <td>…cherche/Individualized_EEG/IndEEG/IndEEG/tasks.py</td>\n",
       "      <td>3h 55m 18s</td>\n",
       "    </tr>\n",
       "    <tr>\n",
       "      <th>20200916-094204</th>\n",
       "      <td>1</td>\n",
       "      <td>Hyperparameter exploration</td>\n",
       "      <td></td>\n",
       "      <td>_finished_</td>\n",
       "      <td>…cherche/Individualized_EEG/IndEEG/IndEEG/tasks.py</td>\n",
       "      <td>5h 16m 50s</td>\n",
       "    </tr>\n",
       "    <tr>\n",
       "      <th>20200916-094203</th>\n",
       "      <td>3</td>\n",
       "      <td>Hyperparameter exploration</td>\n",
       "      <td></td>\n",
       "      <td>_finished_</td>\n",
       "      <td>…cherche/Individualized_EEG/IndEEG/IndEEG/tasks.py</td>\n",
       "      <td>3h 56m 08s</td>\n",
       "    </tr>\n",
       "    <tr>\n",
       "      <th>20200915-164710</th>\n",
       "      <td>2</td>\n",
       "      <td>Hyperparameter exploration</td>\n",
       "      <td></td>\n",
       "      <td>_finished_</td>\n",
       "      <td>…cherche/Individualized_EEG/IndEEG/IndEEG/tasks.py</td>\n",
       "      <td>3h 27m 34s</td>\n",
       "    </tr>\n",
       "    <tr>\n",
       "      <th>20200915-154121</th>\n",
       "      <td>2</td>\n",
       "      <td>Hyperparameter exploration</td>\n",
       "      <td></td>\n",
       "      <td>_finished_</td>\n",
       "      <td>…cherche/Individualized_EEG/IndEEG/IndEEG/tasks.py</td>\n",
       "      <td>3h 49m 17s</td>\n",
       "    </tr>\n",
       "    <tr>\n",
       "      <th>20200912-132121</th>\n",
       "      <td>3</td>\n",
       "      <td>Hyperparameter exploration</td>\n",
       "      <td></td>\n",
       "      <td>_finished_</td>\n",
       "      <td>…cherche/Individualized_EEG/IndEEG/IndEEG/tasks.py</td>\n",
       "      <td>1h 00m 34s</td>\n",
       "    </tr>\n",
       "  </tbody>\n",
       "</table>\n",
       "</div>"
      ],
      "text/plain": [
       "                # records                       reason outcome        tags  \\\n",
       "20201006-142712         1   Hyperparameter exploration          _finished_   \n",
       "20201006-125319         1   Hyperparameter exploration          _finished_   \n",
       "20201006-125318         2   Hyperparameter exploration          _finished_   \n",
       "20201006-125317        11   Hyperparameter exploration          _finished_   \n",
       "20201005-103123         2   Hyperparameter exploration          _finished_   \n",
       "20201005-103122        11   Hyperparameter exploration          _finished_   \n",
       "20201004-202839         2   Hyperparameter exploration          _finished_   \n",
       "20201004-202838         9   Hyperparameter exploration          _finished_   \n",
       "20200924-235015         1  Test fix to rightmost batch          _finished_   \n",
       "20200916-162115         1   Hyperparameter exploration          _finished_   \n",
       "20200916-094204         1   Hyperparameter exploration          _finished_   \n",
       "20200916-094203         3   Hyperparameter exploration          _finished_   \n",
       "20200915-164710         2   Hyperparameter exploration          _finished_   \n",
       "20200915-154121         2   Hyperparameter exploration          _finished_   \n",
       "20200912-132121         3   Hyperparameter exploration          _finished_   \n",
       "\n",
       "                                                         main_file  \\\n",
       "20201006-142712  …cherche/Individualized_EEG/IndEEG/IndEEG/task...   \n",
       "20201006-125319  …cherche/Individualized_EEG/IndEEG/IndEEG/task...   \n",
       "20201006-125318  …cherche/Individualized_EEG/IndEEG/IndEEG/task...   \n",
       "20201006-125317  …cherche/Individualized_EEG/IndEEG/IndEEG/task...   \n",
       "20201005-103123  …cherche/Individualized_EEG/IndEEG/IndEEG/task...   \n",
       "20201005-103122  …cherche/Individualized_EEG/IndEEG/IndEEG/task...   \n",
       "20201004-202839  …cherche/Individualized_EEG/IndEEG/IndEEG/task...   \n",
       "20201004-202838  …cherche/Individualized_EEG/IndEEG/IndEEG/task...   \n",
       "20200924-235015  …cherche/Individualized_EEG/IndEEG/IndEEG/task...   \n",
       "20200916-162115  …cherche/Individualized_EEG/IndEEG/IndEEG/task...   \n",
       "20200916-094204  …cherche/Individualized_EEG/IndEEG/IndEEG/task...   \n",
       "20200916-094203  …cherche/Individualized_EEG/IndEEG/IndEEG/task...   \n",
       "20200915-164710  …cherche/Individualized_EEG/IndEEG/IndEEG/task...   \n",
       "20200915-154121  …cherche/Individualized_EEG/IndEEG/IndEEG/task...   \n",
       "20200912-132121  …cherche/Individualized_EEG/IndEEG/IndEEG/task...   \n",
       "\n",
       "                avg\\n. duration  \n",
       "20201006-142712      3h 52m 39s  \n",
       "20201006-125319      1h 44m 02s  \n",
       "20201006-125318      2h 03m 04s  \n",
       "20201006-125317      2h 38m 18s  \n",
       "20201005-103123      2h 36m 13s  \n",
       "20201005-103122      3h 57m 15s  \n",
       "20201004-202839      2h 02m 09s  \n",
       "20201004-202838      3h 16m 14s  \n",
       "20200924-235015      6h 35m 55s  \n",
       "20200916-162115      3h 55m 18s  \n",
       "20200916-094204      5h 16m 50s  \n",
       "20200916-094203      3h 56m 08s  \n",
       "20200915-164710      3h 27m 34s  \n",
       "20200915-154121      3h 49m 17s  \n",
       "20200912-132121      1h 00m 34s  "
      ]
     },
     "execution_count": 5,
     "metadata": {},
     "output_type": "execute_result"
    }
   ],
   "source": [
    "rsview.summary.merged.tail(15)"
   ]
  },
  {
   "cell_type": "markdown",
   "metadata": {},
   "source": [
    "## Basic record selection\n",
    "\n",
    "- `.get()`: Return the record(s) matching a specific label(s).\n",
    "- `.earliest`: Return the earliest record.\n",
    "- `.latest`: Return the latest record. A simple way to obtain an individual record.\n",
    "- `.list`: Make the RecordStoreView non-consuming (convert its iterable to a list). This is done in-place. Avoids querying the record store for subsequent iterations.\n",
    "- Standard “smart” indexing (i.e `rsview[key]`): Uses some heuristics to determine what to index:\n",
    "  + By label, if *key* is a str. Equivalent to `.get(key)`.\n",
    "  + The cached `.list`, if it is available and *key* is an int. Equivalent to `.list[key]`.\n",
    "  + The underlying iterable, otherwise. (No public equivalent, but can be achieved with `._iterable[key]`.) \\\n",
    "  This is provided as a convenience during exploration."
   ]
  },
  {
   "cell_type": "code",
   "execution_count": 6,
   "metadata": {},
   "outputs": [
    {
     "data": {
      "text/plain": [
       "Record #20201119-112247_f334b8"
      ]
     },
     "execution_count": 6,
     "metadata": {},
     "output_type": "execute_result"
    }
   ],
   "source": [
    "rsview.latest"
   ]
  },
  {
   "cell_type": "code",
   "execution_count": 7,
   "metadata": {},
   "outputs": [
    {
     "data": {
      "text/plain": [
       "Record #20201118-212254_c2c6ab"
      ]
     },
     "execution_count": 7,
     "metadata": {},
     "output_type": "execute_result"
    }
   ],
   "source": [
    "rsview.get('20201118-212254_c2c6ab')"
   ]
  },
  {
   "cell_type": "code",
   "execution_count": 8,
   "metadata": {},
   "outputs": [
    {
     "data": {
      "text/plain": [
       "[Record #20201118-212254_c2c6ab, Record #20201119-095543_8b5fc1]"
      ]
     },
     "execution_count": 8,
     "metadata": {},
     "output_type": "execute_result"
    }
   ],
   "source": [
    "rsview.get(['20201118-212254_c2c6ab', '20201119-095543_8b5fc1'])"
   ]
  },
  {
   "cell_type": "code",
   "execution_count": 9,
   "metadata": {},
   "outputs": [
    {
     "data": {
      "text/plain": [
       "Record #20201118-212254_c2c6ab"
      ]
     },
     "execution_count": 9,
     "metadata": {},
     "output_type": "execute_result"
    }
   ],
   "source": [
    "rsview['20201118-212254_c2c6ab']"
   ]
  },
  {
   "cell_type": "code",
   "execution_count": 10,
   "metadata": {},
   "outputs": [
    {
     "data": {
      "text/plain": [
       "Record #20201119-112247_f334b8"
      ]
     },
     "execution_count": 10,
     "metadata": {},
     "output_type": "execute_result"
    }
   ],
   "source": [
    "rsview[0]"
   ]
  },
  {
   "cell_type": "markdown",
   "metadata": {},
   "source": [
    "## Sumatra.RecordStore interface\n",
    "\n",
    "`RecordStoreView` also reproduces the part of the interface provided by Sumatra's `RecordStore` which makes senses for a read-only view.\n",
    "\n",
    "| *smttask.RecordStoreView* | *sumatra.recordstore.RecordStore* |  Description |\n",
    "|:---|:---|:---|\n",
    "| `.aslist()`    | `.list(...)`  | Return the records as a list. |\n",
    "| `.labels()`    | `.labels(...)` | Return the list of record labels (RecordStoreView caches the value). |\n",
    "| `.most_recent()` | `.most_recent(...)` | Return the *label* of the most recent record. Equivalent to `.latest.label`. |\n",
    "| `.export(indent=2)` | `.export(...)` |  Return a string with a JSON representation of the project record store. |\n",
    "| `.export_records(records, indent=2)` | `.export_records(...)` | Return a string with a JSON representation of the given records |\n"
   ]
  },
  {
   "cell_type": "markdown",
   "metadata": {},
   "source": [
    "### Exception to read-only interface\n",
    "\n",
    "`RecordStoreView` also adds `add_tag` and `remove_tag` methods, which modifying the underlying recorstore by respectively adding and removing tags to every record in the view. Combined with [filtering](#Filtering), this is an efficient way to mark particular records for later access, especially because tag filters are by far the [fastest](#Pre-vs-post-filters). For example, one can tag all records required for a particular figure:\n",
    "```python\n",
    "rsview.filter.[date/version/parameter conditions].add_tag('figure1')\n",
    "```\n",
    "Retrieving those records can then be done in milliseconds, even with a store containing thousands of records:\n",
    "```python\n",
    "records = rsview.filter.tag('figure1').filter.[panel 1 condition]\n",
    "```"
   ]
  },
  {
   "cell_type": "markdown",
   "metadata": {},
   "source": [
    "## Filtering\n",
    "\n",
    "The primary mechanism for pairing down the number of records is the *filter*. Filters can be chained, so for example to select all records between September 12th (inclusive) and 16th (exclusive) 2020:"
   ]
  },
  {
   "cell_type": "code",
   "execution_count": 11,
   "metadata": {},
   "outputs": [
    {
     "data": {
      "text/html": [
       "<div>\n",
       "<style scoped>\n",
       "    .dataframe tbody tr th:only-of-type {\n",
       "        vertical-align: middle;\n",
       "    }\n",
       "\n",
       "    .dataframe tbody tr th {\n",
       "        vertical-align: top;\n",
       "    }\n",
       "\n",
       "    .dataframe thead th {\n",
       "        text-align: right;\n",
       "    }\n",
       "</style>\n",
       "<table border=\"1\" class=\"dataframe\">\n",
       "  <thead>\n",
       "    <tr style=\"text-align: right;\">\n",
       "      <th></th>\n",
       "      <th># records</th>\n",
       "      <th>reason</th>\n",
       "      <th>outcome</th>\n",
       "      <th>tags</th>\n",
       "      <th>main_file</th>\n",
       "      <th>avg<br>. duration</th>\n",
       "    </tr>\n",
       "  </thead>\n",
       "  <tbody>\n",
       "    <tr>\n",
       "      <th>20200915-164710_90be</th>\n",
       "      <td>1</td>\n",
       "      <td>Hyperparameter exploration</td>\n",
       "      <td></td>\n",
       "      <td>_finished_</td>\n",
       "      <td>…cherche/Individualized_EEG/IndEEG/IndEEG/tasks.py</td>\n",
       "      <td>4h 20m 17s</td>\n",
       "    </tr>\n",
       "    <tr>\n",
       "      <th>20200915-164710_4e31</th>\n",
       "      <td>1</td>\n",
       "      <td>Hyperparameter exploration</td>\n",
       "      <td></td>\n",
       "      <td>_finished_</td>\n",
       "      <td>…cherche/Individualized_EEG/IndEEG/IndEEG/tasks.py</td>\n",
       "      <td>2h 34m 51s</td>\n",
       "    </tr>\n",
       "    <tr>\n",
       "      <th>20200915-154121_d464</th>\n",
       "      <td>1</td>\n",
       "      <td>Hyperparameter exploration</td>\n",
       "      <td></td>\n",
       "      <td>_finished_</td>\n",
       "      <td>…cherche/Individualized_EEG/IndEEG/IndEEG/tasks.py</td>\n",
       "      <td>4h 53m 32s</td>\n",
       "    </tr>\n",
       "    <tr>\n",
       "      <th>20200915-154121_a0fa</th>\n",
       "      <td>1</td>\n",
       "      <td>Hyperparameter exploration</td>\n",
       "      <td></td>\n",
       "      <td>_finished_</td>\n",
       "      <td>…cherche/Individualized_EEG/IndEEG/IndEEG/tasks.py</td>\n",
       "      <td>2h 45m 02s</td>\n",
       "    </tr>\n",
       "    <tr>\n",
       "      <th>20200912-132121_d712</th>\n",
       "      <td>1</td>\n",
       "      <td>Hyperparameter exploration</td>\n",
       "      <td></td>\n",
       "      <td>_finished_</td>\n",
       "      <td>…cherche/Individualized_EEG/IndEEG/IndEEG/tasks.py</td>\n",
       "      <td>0h 21m 17s</td>\n",
       "    </tr>\n",
       "    <tr>\n",
       "      <th>20200912-132121_c390</th>\n",
       "      <td>1</td>\n",
       "      <td>Hyperparameter exploration</td>\n",
       "      <td></td>\n",
       "      <td>_finished_</td>\n",
       "      <td>…cherche/Individualized_EEG/IndEEG/IndEEG/tasks.py</td>\n",
       "      <td>1h 16m 56s</td>\n",
       "    </tr>\n",
       "    <tr>\n",
       "      <th>20200912-132121_773d</th>\n",
       "      <td>1</td>\n",
       "      <td>Hyperparameter exploration</td>\n",
       "      <td></td>\n",
       "      <td>_finished_</td>\n",
       "      <td>…cherche/Individualized_EEG/IndEEG/IndEEG/tasks.py</td>\n",
       "      <td>1h 23m 30s</td>\n",
       "    </tr>\n",
       "  </tbody>\n",
       "</table>\n",
       "</div>"
      ],
      "text/plain": [
       "                     # records                      reason outcome  \\\n",
       "20200915-164710_90be         1  Hyperparameter exploration           \n",
       "20200915-164710_4e31         1  Hyperparameter exploration           \n",
       "20200915-154121_d464         1  Hyperparameter exploration           \n",
       "20200915-154121_a0fa         1  Hyperparameter exploration           \n",
       "20200912-132121_d712         1  Hyperparameter exploration           \n",
       "20200912-132121_c390         1  Hyperparameter exploration           \n",
       "20200912-132121_773d         1  Hyperparameter exploration           \n",
       "\n",
       "                            tags  \\\n",
       "20200915-164710_90be  _finished_   \n",
       "20200915-164710_4e31  _finished_   \n",
       "20200915-154121_d464  _finished_   \n",
       "20200915-154121_a0fa  _finished_   \n",
       "20200912-132121_d712  _finished_   \n",
       "20200912-132121_c390  _finished_   \n",
       "20200912-132121_773d  _finished_   \n",
       "\n",
       "                                                              main_file  \\\n",
       "20200915-164710_90be  …cherche/Individualized_EEG/IndEEG/IndEEG/task...   \n",
       "20200915-164710_4e31  …cherche/Individualized_EEG/IndEEG/IndEEG/task...   \n",
       "20200915-154121_d464  …cherche/Individualized_EEG/IndEEG/IndEEG/task...   \n",
       "20200915-154121_a0fa  …cherche/Individualized_EEG/IndEEG/IndEEG/task...   \n",
       "20200912-132121_d712  …cherche/Individualized_EEG/IndEEG/IndEEG/task...   \n",
       "20200912-132121_c390  …cherche/Individualized_EEG/IndEEG/IndEEG/task...   \n",
       "20200912-132121_773d  …cherche/Individualized_EEG/IndEEG/IndEEG/task...   \n",
       "\n",
       "                     avg\\n. duration  \n",
       "20200915-164710_90be      4h 20m 17s  \n",
       "20200915-164710_4e31      2h 34m 51s  \n",
       "20200915-154121_d464      4h 53m 32s  \n",
       "20200915-154121_a0fa      2h 45m 02s  \n",
       "20200912-132121_d712      0h 21m 17s  \n",
       "20200912-132121_c390      1h 16m 56s  \n",
       "20200912-132121_773d      1h 23m 30s  "
      ]
     },
     "execution_count": 11,
     "metadata": {},
     "output_type": "execute_result"
    }
   ],
   "source": [
    "records = (rsview.filter.after(20200912)\n",
    "                 .filter.before(20200916)\n",
    "          ).list\n",
    "records.summary"
   ]
  },
  {
   "cell_type": "markdown",
   "metadata": {},
   "source": [
    "> Filters return generators (to make chaining cheap), which is why we use the `.list` on the result to avoid the RecordStoreView being consumed the first time we use it."
   ]
  },
  {
   "cell_type": "markdown",
   "metadata": {},
   "source": [
    "### Builtin filters\n",
    "\n",
    "The builtin filters are listed below; they are all accessed as attributes, as `filter.<filter name>`."
   ]
  },
  {
   "cell_type": "code",
   "execution_count": 12,
   "metadata": {},
   "outputs": [
    {
     "name": "stdout",
     "output_type": "stream",
     "text": [
      "generic_filter(fn: Callable)\n",
      "    The default filter: keep records for which `fn` returns True.\n",
      "    Equivalent to Python's `filter`.\n",
      "\n",
      "before(date, *args)\n",
      "    Keep only records which occured before the given date. Date is exclusive.\n",
      "    Can provide date either as a single tuple, or multiple arguments as for\n",
      "    `datetime.datetime()`; a `datetime` instance is also accepted.\n",
      "\n",
      "    As a convenience, tuple values may be concatenated and replaced by a\n",
      "    single integer of 4 to 8 digits; if it has less than 8 digits, it is\n",
      "    extended to the earliest date (so 2018 -> 20180101).\n",
      "\n",
      "after(date, *args)\n",
      "    Keep only records which occurred after the given date. Date is inclusive.\n",
      "    Can provide date either as a single tuple, or multiple arguments as for\n",
      "    `datetime.datetime()`; a `datetime` instance is also accepted.\n",
      "\n",
      "    As a convenience, tuple values may be concatenated and replaced by a\n",
      "    single integer of 4 to 8 digits; if it has less than 8 digits, it is\n",
      "    extended to the earliest date (so 2018 -> 20180101).\n",
      "\n",
      "on(date, *args)\n",
      "    Keep only records which occurred on the given date.\n",
      "    Can provide date either as a single tuple, or multiple arguments as for\n",
      "    `datetime.datetime()`; a `datetime` instance is also accepted.\n",
      "\n",
      "    As a convenience, tuple values may be concatenated and replaced by a\n",
      "    single integer of 4 to 8 digits; if it has less than 8 digits, it is\n",
      "    extended to the earliest date (so 2018 -> 20180101).\n",
      "\n",
      "label(substr: str)\n",
      "    Keep records for which the label contains `substr`.\n",
      "\n",
      "output(minimum=1, maximum=None)\n",
      "    Keep only records whose number of output files is between `minimum`\n",
      "    and `maximum`.\n",
      "\n",
      "outputpath(substr: str)\n",
      "    Keep records for which at least one output file path contains `substr`.\n",
      "\n",
      "reason(substr: str)\n",
      "    Keep records for which the “reason” value contains `substr`.\n",
      "\n",
      "script(substr: str)\n",
      "    Keep records for which the “script” value contains `substr`.\n",
      "\n",
      "tags(tags: Union[List[str], str])\n",
      "    Keep records containing the specified tags.\n",
      "\n",
      "params(eq=None, *, ge=None, le=None, gt=None, lt=None, isclose=None)\n",
      "    Keep records for which specific parameters satisfy the given conditions.\n",
      "    Conditions should be specified as dictionaries; keys for nested parameters\n",
      "    can be specified with dots between levels.\n",
      "\n",
      "    Which operation is used to compare the parameter values is specified by\n",
      "    keyword (if no keyword is given, equality is assumed). The recognized\n",
      "    keywords and their corresponding operators are as follows:\n",
      "\n",
      "    - `eq`: Keep records for which record.param = value\n",
      "    - `ge`: Keep records for which record.param ≥ value\n",
      "    - `le`: Keep records for which record.param ≤ value\n",
      "    - `gt`: Keep records for which record.param > value\n",
      "    - `lt`: Keep records for which record.param < value\n",
      "    - `isclose`: Keep records for which record.param ≈ value\n",
      "      Tested as ``np.isclose(record.param, value)``.\n",
      "\n",
      "    When mulitple conditions are specified (either as dictionaries with\n",
      "    multiple entries or by giving multiple keyword arguments), only records\n",
      "    satisfying all conditions are kept.\n",
      "\n",
      "    Parameters\n",
      "    ----------\n",
      "    eq, ge, le, gt, lt, isclose: dict\n",
      "        See above.\n",
      "\n",
      "    Example\n",
      "    -------\n",
      "    >>> rsview = RecordStoreView()\n",
      "    >>> rsview.filter.params(eq={'a': 1}, isclose={'φ': 1.57079})\n",
      "\n",
      "match(ref, eq=None, *, ge=None, le=None, gt=None, lt=None, isclose=None, include_reference=True)\n",
      "    Similar to the `params` `RecordFilter`, with the difference that rather\n",
      "    than specifying a value explicitely, a reference record or task is provided.\n",
      "    Records which match the reference in the specified parameters are kept.\n",
      "\n",
      "    See `params` for definition of the comparison keyword arguments.\n",
      "\n",
      "    Parameters\n",
      "    ----------\n",
      "    ref: Record | Task | dict\n",
      "        Comparisons are performed between ``get_param(ref, param)``\n",
      "        and ``get_param(record, param)``.\n",
      "    eq, ge, le, gt, lt, isclose: list\n",
      "        See `params`. Specify as list instead of dict since values are\n",
      "        taken from `ref`.\n",
      "    include_reference: bool\n",
      "        Whether to keep the record used for reference. This is only relevant\n",
      "        if `ref` is `Record`; if it is a `Task` or dict, it is always kept\n",
      "        (since no test can guarantee that the it is the same).\n",
      "\n"
     ]
    }
   ],
   "source": [
    "for fltr in rsview.filter.registered_filters.values():\n",
    "    print_api(fltr)"
   ]
  },
  {
   "cell_type": "markdown",
   "metadata": {},
   "source": [
    "#### Selecting based on parameters\n",
    "\n",
    "The filters `params` and `match` are specialized by *smttask* to recognize *task descriptions*: when specifying hierarchical parameters which include task descriptions, the *input* level may be omitted. For example, the following matches the key `'optimizer.model.params.μtilde'`, even though for some records the full key would be `'inputs.optimizer.inputs.model.inputs.params.μtilde'`. This is not only shorter, but at least in some cases will match records parameterized both with values and upstream tasks.\n",
    "\n",
    "(Internally, the `params` and `match` filter use the `get_task_param` function [detailed below](#Retrieving-parameter-values).)"
   ]
  },
  {
   "cell_type": "code",
   "execution_count": 13,
   "metadata": {},
   "outputs": [
    {
     "data": {
      "text/html": [
       "<div>\n",
       "<style scoped>\n",
       "    .dataframe tbody tr th:only-of-type {\n",
       "        vertical-align: middle;\n",
       "    }\n",
       "\n",
       "    .dataframe tbody tr th {\n",
       "        vertical-align: top;\n",
       "    }\n",
       "\n",
       "    .dataframe thead th {\n",
       "        text-align: right;\n",
       "    }\n",
       "</style>\n",
       "<table border=\"1\" class=\"dataframe\">\n",
       "  <thead>\n",
       "    <tr style=\"text-align: right;\">\n",
       "      <th></th>\n",
       "      <th># records</th>\n",
       "      <th>reason</th>\n",
       "      <th>outcome</th>\n",
       "      <th>tags</th>\n",
       "      <th>main_file</th>\n",
       "      <th>avg<br>. duration</th>\n",
       "    </tr>\n",
       "  </thead>\n",
       "  <tbody>\n",
       "    <tr>\n",
       "      <th>20201119-090726_a8a2b0</th>\n",
       "      <td>1</td>\n",
       "      <td>Test fit OUInput</td>\n",
       "      <td></td>\n",
       "      <td>_running_</td>\n",
       "      <td>…cherche/Individualized_EEG/IndEEG/IndEEG/tasks.py</td>\n",
       "      <td>0h 00m 00s</td>\n",
       "    </tr>\n",
       "    <tr>\n",
       "      <th>20201114-221233_dcfd10</th>\n",
       "      <td>1</td>\n",
       "      <td>Test fit OUInput</td>\n",
       "      <td></td>\n",
       "      <td>_finished_</td>\n",
       "      <td>…cherche/Individualized_EEG/IndEEG/IndEEG/tasks.py</td>\n",
       "      <td>11h 21m 51s</td>\n",
       "    </tr>\n",
       "    <tr>\n",
       "      <th>20201110-213127_351be7</th>\n",
       "      <td>1</td>\n",
       "      <td>Test fit OUInput</td>\n",
       "      <td></td>\n",
       "      <td>_finished_</td>\n",
       "      <td>…cherche/Individualized_EEG/IndEEG/IndEEG/tasks.py</td>\n",
       "      <td>4h 07m 31s</td>\n",
       "    </tr>\n",
       "    <tr>\n",
       "      <th>20201109-183035_bfd996</th>\n",
       "      <td>1</td>\n",
       "      <td>Test fit OUInput</td>\n",
       "      <td></td>\n",
       "      <td>_finished_</td>\n",
       "      <td>…cherche/Individualized_EEG/IndEEG/IndEEG/tasks.py</td>\n",
       "      <td>4h 10m 25s</td>\n",
       "    </tr>\n",
       "  </tbody>\n",
       "</table>\n",
       "</div>"
      ],
      "text/plain": [
       "                       # records            reason outcome        tags  \\\n",
       "20201119-090726_a8a2b0         1  Test fit OUInput           _running_   \n",
       "20201114-221233_dcfd10         1  Test fit OUInput          _finished_   \n",
       "20201110-213127_351be7         1  Test fit OUInput          _finished_   \n",
       "20201109-183035_bfd996         1  Test fit OUInput          _finished_   \n",
       "\n",
       "                                                                main_file  \\\n",
       "20201119-090726_a8a2b0  …cherche/Individualized_EEG/IndEEG/IndEEG/task...   \n",
       "20201114-221233_dcfd10  …cherche/Individualized_EEG/IndEEG/IndEEG/task...   \n",
       "20201110-213127_351be7  …cherche/Individualized_EEG/IndEEG/IndEEG/task...   \n",
       "20201109-183035_bfd996  …cherche/Individualized_EEG/IndEEG/IndEEG/task...   \n",
       "\n",
       "                       avg\\n. duration  \n",
       "20201119-090726_a8a2b0      0h 00m 00s  \n",
       "20201114-221233_dcfd10     11h 21m 51s  \n",
       "20201110-213127_351be7      4h 07m 31s  \n",
       "20201109-183035_bfd996      4h 10m 25s  "
      ]
     },
     "execution_count": 13,
     "metadata": {},
     "output_type": "execute_result"
    }
   ],
   "source": [
    "rsview.filter.params(\n",
    "    eq={'optimizer.model.params.μtilde': [-3.4729471730413772, -0.13678844546243388]}\n",
    ").summary"
   ]
  },
  {
   "cell_type": "code",
   "execution_count": 14,
   "metadata": {},
   "outputs": [
    {
     "data": {
      "text/plain": [
       "[-3.4729471730413772, -0.13678844546243388]"
      ]
     },
     "execution_count": 14,
     "metadata": {},
     "output_type": "execute_result"
    }
   ],
   "source": [
    "# Full key of the first record includes three task descs:\n",
    "ParameterSet(rsview['20201119-090726_a8a2b0'].parameters)[\n",
    "    'inputs.optimizer.inputs.model.inputs.params.μtilde']"
   ]
  },
  {
   "cell_type": "markdown",
   "metadata": {},
   "source": [
    "### Pre vs post filters\n",
    "\n",
    "Most builtin filters, and all custom filters, are *post*-filters: an iterable over the record store is first created, then iterated over and the filter applied to each record. This is flexible but each query to the record store carries substantial overhead.\n",
    "\n",
    "Fore record stores built on top of database interfaces, specifically the Django record store, many filter can in theory be integrated into the SQL query which constructs the iterator. Since in this case the filter is applied before the iterator, we call it a *pre* filter, and it can be much faster. However, support for pre-filters must be provided on a per-record store and per-filter basis; at present, only a pre-filter for `tags` is provided, since that is the one also provided by Sumatra.\n",
    "\n",
    "Available pre-filters are applied automatically, *as long as they appear before any post-filter*. As an example, compare the execution time of the two following queries, which differ only in the order of their filters."
   ]
  },
  {
   "cell_type": "code",
   "execution_count": 15,
   "metadata": {},
   "outputs": [],
   "source": [
    "rsview2 = smttask.RecordStoreView()"
   ]
  },
  {
   "cell_type": "code",
   "execution_count": 16,
   "metadata": {},
   "outputs": [
    {
     "name": "stdout",
     "output_type": "stream",
     "text": [
      "CPU times: user 133 ms, sys: 4.01 ms, total: 137 ms\n",
      "Wall time: 135 ms\n"
     ]
    },
    {
     "data": {
      "text/plain": [
       "<smttask.view.recordstoreview.RecordStoreView at 0x7f6f6924d670>"
      ]
     },
     "execution_count": 16,
     "metadata": {},
     "output_type": "execute_result"
    }
   ],
   "source": [
    "%time rsview2.filter.tags('killed').filter.label('202011').list;"
   ]
  },
  {
   "cell_type": "code",
   "execution_count": 17,
   "metadata": {},
   "outputs": [
    {
     "name": "stdout",
     "output_type": "stream",
     "text": [
      "CPU times: user 4.55 s, sys: 127 ms, total: 4.67 s\n",
      "Wall time: 4.67 s\n"
     ]
    },
    {
     "data": {
      "text/plain": [
       "<smttask.view.recordstoreview.RecordStoreView at 0x7f6f68c1c400>"
      ]
     },
     "execution_count": 17,
     "metadata": {},
     "output_type": "execute_result"
    }
   ],
   "source": [
    "%time rsview2.filter.label('202011').filter.tags('killed').list;"
   ]
  },
  {
   "cell_type": "markdown",
   "metadata": {},
   "source": [
    "> **tl;dr**: Some filters have *pre* versions. Apply those first."
   ]
  },
  {
   "cell_type": "markdown",
   "metadata": {},
   "source": [
    "### Custom filters\n",
    "\n",
    "Rather than using one of the builtin filters listed above, one may instead pass an arbitrary function to the `.filter` attribute. This function should take one argument (the record) and return a bool; records for which it returns `True` are kept.\n",
    "\n",
    "For example, to kept only records whose duration was greater than 10 hours, one could do (duration is recorded in seconds):\n",
    "\n",
    "> `rsview.filter(...)` and `rsview.filter.generic_filter(...)` are semantically equivalent."
   ]
  },
  {
   "cell_type": "code",
   "execution_count": 18,
   "metadata": {},
   "outputs": [
    {
     "data": {
      "text/html": [
       "<div>\n",
       "<style scoped>\n",
       "    .dataframe tbody tr th:only-of-type {\n",
       "        vertical-align: middle;\n",
       "    }\n",
       "\n",
       "    .dataframe tbody tr th {\n",
       "        vertical-align: top;\n",
       "    }\n",
       "\n",
       "    .dataframe thead th {\n",
       "        text-align: right;\n",
       "    }\n",
       "</style>\n",
       "<table border=\"1\" class=\"dataframe\">\n",
       "  <thead>\n",
       "    <tr style=\"text-align: right;\">\n",
       "      <th></th>\n",
       "      <th># records</th>\n",
       "      <th>reason</th>\n",
       "      <th>outcome</th>\n",
       "      <th>tags</th>\n",
       "      <th>main_file</th>\n",
       "      <th>avg<br>. duration</th>\n",
       "    </tr>\n",
       "  </thead>\n",
       "  <tbody>\n",
       "    <tr>\n",
       "      <th>20201118-145225_517742</th>\n",
       "      <td>1</td>\n",
       "      <td>Test fit OUInput</td>\n",
       "      <td></td>\n",
       "      <td>_finished_</td>\n",
       "      <td>…cherche/Individualized_EEG/IndEEG/IndEEG/tasks.py</td>\n",
       "      <td>19h 03m 05s</td>\n",
       "    </tr>\n",
       "    <tr>\n",
       "      <th>20201118-141502_35e1c8</th>\n",
       "      <td>1</td>\n",
       "      <td>Test fit OUInput</td>\n",
       "      <td></td>\n",
       "      <td>_finished_</td>\n",
       "      <td>…cherche/Individualized_EEG/IndEEG/IndEEG/tasks.py</td>\n",
       "      <td>15h 50m 42s</td>\n",
       "    </tr>\n",
       "    <tr>\n",
       "      <th>20201118-140625_67a79e</th>\n",
       "      <td>1</td>\n",
       "      <td>Test fit OUInput</td>\n",
       "      <td></td>\n",
       "      <td>_finished_</td>\n",
       "      <td>…cherche/Individualized_EEG/IndEEG/IndEEG/tasks.py</td>\n",
       "      <td>17h 22m 25s</td>\n",
       "    </tr>\n",
       "    <tr>\n",
       "      <th>20201118-124009_bf49cc</th>\n",
       "      <td>1</td>\n",
       "      <td>Test fit OUInput</td>\n",
       "      <td></td>\n",
       "      <td>_finished_</td>\n",
       "      <td>…cherche/Individualized_EEG/IndEEG/IndEEG/tasks.py</td>\n",
       "      <td>18h 20m 00s</td>\n",
       "    </tr>\n",
       "    <tr>\n",
       "      <th>20201118-121208_5caff8</th>\n",
       "      <td>1</td>\n",
       "      <td>Test fit OUInput</td>\n",
       "      <td></td>\n",
       "      <td>_finished_</td>\n",
       "      <td>…cherche/Individualized_EEG/IndEEG/IndEEG/tasks.py</td>\n",
       "      <td>20h 55m 06s</td>\n",
       "    </tr>\n",
       "    <tr>\n",
       "      <th>...</th>\n",
       "      <td>...</td>\n",
       "      <td>...</td>\n",
       "      <td>...</td>\n",
       "      <td>...</td>\n",
       "      <td>...</td>\n",
       "      <td>...</td>\n",
       "    </tr>\n",
       "    <tr>\n",
       "      <th>20201028-211334_058f</th>\n",
       "      <td>1</td>\n",
       "      <td>Diagnose – param-only fit</td>\n",
       "      <td></td>\n",
       "      <td>_finished_</td>\n",
       "      <td>…cherche/Individualized_EEG/IndEEG/IndEEG/tasks.py</td>\n",
       "      <td>10h 58m 19s</td>\n",
       "    </tr>\n",
       "    <tr>\n",
       "      <th>20201014-090309_e5d8</th>\n",
       "      <td>1</td>\n",
       "      <td>Test: no dynamics on rightmost latents batch</td>\n",
       "      <td></td>\n",
       "      <td>_finished_</td>\n",
       "      <td>…cherche/Individualized_EEG/IndEEG/IndEEG/tasks.py</td>\n",
       "      <td>10h 18m 57s</td>\n",
       "    </tr>\n",
       "    <tr>\n",
       "      <th>20201012-014504_1edb</th>\n",
       "      <td>1</td>\n",
       "      <td>Hyperparameter exploration</td>\n",
       "      <td></td>\n",
       "      <td>_finished_</td>\n",
       "      <td>…cherche/Individualized_EEG/IndEEG/IndEEG/tasks.py</td>\n",
       "      <td>10h 29m 44s</td>\n",
       "    </tr>\n",
       "    <tr>\n",
       "      <th>20201011-121232_b536</th>\n",
       "      <td>1</td>\n",
       "      <td>Hyperparameter exploration</td>\n",
       "      <td></td>\n",
       "      <td>_finished_</td>\n",
       "      <td>…cherche/Individualized_EEG/IndEEG/IndEEG/tasks.py</td>\n",
       "      <td>11h 06m 31s</td>\n",
       "    </tr>\n",
       "    <tr>\n",
       "      <th>20201006-232342_8a73</th>\n",
       "      <td>1</td>\n",
       "      <td>Hyperparameter exploration</td>\n",
       "      <td>Due to bug exporting scaled learning rates, the l…</td>\n",
       "      <td>_finished_</td>\n",
       "      <td>…cherche/Individualized_EEG/IndEEG/IndEEG/tasks.py</td>\n",
       "      <td>14h 58m 24s</td>\n",
       "    </tr>\n",
       "  </tbody>\n",
       "</table>\n",
       "<p>86 rows × 6 columns</p>\n",
       "</div>"
      ],
      "text/plain": [
       "                       # records  \\\n",
       "20201118-145225_517742         1   \n",
       "20201118-141502_35e1c8         1   \n",
       "20201118-140625_67a79e         1   \n",
       "20201118-124009_bf49cc         1   \n",
       "20201118-121208_5caff8         1   \n",
       "...                          ...   \n",
       "20201028-211334_058f           1   \n",
       "20201014-090309_e5d8           1   \n",
       "20201012-014504_1edb           1   \n",
       "20201011-121232_b536           1   \n",
       "20201006-232342_8a73           1   \n",
       "\n",
       "                                                              reason  \\\n",
       "20201118-145225_517742                              Test fit OUInput   \n",
       "20201118-141502_35e1c8                              Test fit OUInput   \n",
       "20201118-140625_67a79e                              Test fit OUInput   \n",
       "20201118-124009_bf49cc                              Test fit OUInput   \n",
       "20201118-121208_5caff8                              Test fit OUInput   \n",
       "...                                                              ...   \n",
       "20201028-211334_058f                       Diagnose – param-only fit   \n",
       "20201014-090309_e5d8    Test: no dynamics on rightmost latents batch   \n",
       "20201012-014504_1edb                      Hyperparameter exploration   \n",
       "20201011-121232_b536                      Hyperparameter exploration   \n",
       "20201006-232342_8a73                      Hyperparameter exploration   \n",
       "\n",
       "                                                                  outcome  \\\n",
       "20201118-145225_517742                                                      \n",
       "20201118-141502_35e1c8                                                      \n",
       "20201118-140625_67a79e                                                      \n",
       "20201118-124009_bf49cc                                                      \n",
       "20201118-121208_5caff8                                                      \n",
       "...                                                                   ...   \n",
       "20201028-211334_058f                                                        \n",
       "20201014-090309_e5d8                                                        \n",
       "20201012-014504_1edb                                                        \n",
       "20201011-121232_b536                                                        \n",
       "20201006-232342_8a73    Due to bug exporting scaled learning rates, th...   \n",
       "\n",
       "                              tags  \\\n",
       "20201118-145225_517742  _finished_   \n",
       "20201118-141502_35e1c8  _finished_   \n",
       "20201118-140625_67a79e  _finished_   \n",
       "20201118-124009_bf49cc  _finished_   \n",
       "20201118-121208_5caff8  _finished_   \n",
       "...                            ...   \n",
       "20201028-211334_058f    _finished_   \n",
       "20201014-090309_e5d8    _finished_   \n",
       "20201012-014504_1edb    _finished_   \n",
       "20201011-121232_b536    _finished_   \n",
       "20201006-232342_8a73    _finished_   \n",
       "\n",
       "                                                                main_file  \\\n",
       "20201118-145225_517742  …cherche/Individualized_EEG/IndEEG/IndEEG/task...   \n",
       "20201118-141502_35e1c8  …cherche/Individualized_EEG/IndEEG/IndEEG/task...   \n",
       "20201118-140625_67a79e  …cherche/Individualized_EEG/IndEEG/IndEEG/task...   \n",
       "20201118-124009_bf49cc  …cherche/Individualized_EEG/IndEEG/IndEEG/task...   \n",
       "20201118-121208_5caff8  …cherche/Individualized_EEG/IndEEG/IndEEG/task...   \n",
       "...                                                                   ...   \n",
       "20201028-211334_058f    …cherche/Individualized_EEG/IndEEG/IndEEG/task...   \n",
       "20201014-090309_e5d8    …cherche/Individualized_EEG/IndEEG/IndEEG/task...   \n",
       "20201012-014504_1edb    …cherche/Individualized_EEG/IndEEG/IndEEG/task...   \n",
       "20201011-121232_b536    …cherche/Individualized_EEG/IndEEG/IndEEG/task...   \n",
       "20201006-232342_8a73    …cherche/Individualized_EEG/IndEEG/IndEEG/task...   \n",
       "\n",
       "                       avg\\n. duration  \n",
       "20201118-145225_517742     19h 03m 05s  \n",
       "20201118-141502_35e1c8     15h 50m 42s  \n",
       "20201118-140625_67a79e     17h 22m 25s  \n",
       "20201118-124009_bf49cc     18h 20m 00s  \n",
       "20201118-121208_5caff8     20h 55m 06s  \n",
       "...                                ...  \n",
       "20201028-211334_058f       10h 58m 19s  \n",
       "20201014-090309_e5d8       10h 18m 57s  \n",
       "20201012-014504_1edb       10h 29m 44s  \n",
       "20201011-121232_b536       11h 06m 31s  \n",
       "20201006-232342_8a73       14h 58m 24s  \n",
       "\n",
       "[86 rows x 6 columns]"
      ]
     },
     "execution_count": 18,
     "metadata": {},
     "output_type": "execute_result"
    }
   ],
   "source": [
    "records = rsview.filter.output().filter(lambda rec: rec.duration > 10*60*60).list\n",
    "records.summary"
   ]
  },
  {
   "cell_type": "markdown",
   "metadata": {},
   "source": [
    "## Comparing records\n",
    "\n",
    "### Binary comparisons\n",
    "\n",
    "Let's say you have two records, *record1* and *record2*, which were produced using almost identical parameterisations but gave different results."
   ]
  },
  {
   "cell_type": "code",
   "execution_count": 19,
   "metadata": {},
   "outputs": [],
   "source": [
    "record1 = rsview.get('20201119-075320_7b84e7')\n",
    "record2 = rsview.get('20201119-042150_e177c4')"
   ]
  },
  {
   "cell_type": "markdown",
   "metadata": {},
   "source": [
    "If you don't remember exactly how each was run (or misremember), how do you determine what might explain the difference between the results ? Simply comparing the two parameter sets by eye is virtually impossible if there are more than a handful of parameters."
   ]
  },
  {
   "cell_type": "code",
   "execution_count": 20,
   "metadata": {},
   "outputs": [],
   "source": [
    "params1 = ParameterSet(record1.parameters)\n",
    "params2 = ParameterSet(record2.parameters)"
   ]
  },
  {
   "cell_type": "code",
   "execution_count": 21,
   "metadata": {},
   "outputs": [],
   "source": [
    "# Commented out for brevity\n",
    "#print(params1.pretty())"
   ]
  },
  {
   "cell_type": "markdown",
   "metadata": {},
   "source": [
    "The *mackelab_toolbox* provides the function `dfdiff` for comparing two parameter sets. It works with hierarchical parameter sets, and keeps only those entries which differ. The result is returned as a Pandas Dataframe, so it displays nicely and can be further indexed."
   ]
  },
  {
   "cell_type": "code",
   "execution_count": 22,
   "metadata": {},
   "outputs": [
    {
     "data": {
      "text/html": [
       "<div>\n",
       "<style scoped>\n",
       "    .dataframe tbody tr th:only-of-type {\n",
       "        vertical-align: middle;\n",
       "    }\n",
       "\n",
       "    .dataframe tbody tr th {\n",
       "        vertical-align: top;\n",
       "    }\n",
       "\n",
       "    .dataframe thead th {\n",
       "        text-align: right;\n",
       "    }\n",
       "</style>\n",
       "<table border=\"1\" class=\"dataframe\">\n",
       "  <thead>\n",
       "    <tr style=\"text-align: right;\">\n",
       "      <th></th>\n",
       "      <th></th>\n",
       "      <th></th>\n",
       "      <th></th>\n",
       "      <th></th>\n",
       "      <th>pset 1</th>\n",
       "      <th>pset 2</th>\n",
       "    </tr>\n",
       "  </thead>\n",
       "  <tbody>\n",
       "    <tr>\n",
       "      <th rowspan=\"8\" valign=\"top\">inputs</th>\n",
       "      <th>digest</th>\n",
       "      <th>–</th>\n",
       "      <th>–</th>\n",
       "      <th>–</th>\n",
       "      <td>7b84e7ecbb__nsteps_25000</td>\n",
       "      <td>e177c4e9ca__nsteps_25000</td>\n",
       "    </tr>\n",
       "    <tr>\n",
       "      <th>recorders</th>\n",
       "      <th>–</th>\n",
       "      <th>–</th>\n",
       "      <th>–</th>\n",
       "      <td>[{'name': 'log L', 'keys': None, 'interval': 1...</td>\n",
       "      <td>[{'name': 'log L', 'keys': None, 'interval': 1...</td>\n",
       "    </tr>\n",
       "    <tr>\n",
       "      <th>hashed_digest</th>\n",
       "      <th>–</th>\n",
       "      <th>–</th>\n",
       "      <th>–</th>\n",
       "      <td>7b84e7ecbb</td>\n",
       "      <td>e177c4e9ca</td>\n",
       "    </tr>\n",
       "    <tr>\n",
       "      <th rowspan=\"5\" valign=\"top\">optimizer</th>\n",
       "      <th>latent_cache_path</th>\n",
       "      <th>–</th>\n",
       "      <th>–</th>\n",
       "      <td>.cache/latents_process-2</td>\n",
       "      <td>.cache/latents_process-4</td>\n",
       "    </tr>\n",
       "    <tr>\n",
       "      <th rowspan=\"4\" valign=\"top\">model</th>\n",
       "      <th rowspan=\"4\" valign=\"top\">params</th>\n",
       "      <th>μtilde</th>\n",
       "      <td>[-0.2644939661170402, -0.6205617416379619]</td>\n",
       "      <td>[-2.261403657553197, -0.11352527517905774]</td>\n",
       "    </tr>\n",
       "    <tr>\n",
       "      <th>τtilde</th>\n",
       "      <td>[2.5375870766829345, 2.209510172754845]</td>\n",
       "      <td>[0.23277087700432836, 1.4732451278346765]</td>\n",
       "    </tr>\n",
       "    <tr>\n",
       "      <th>σtilde</th>\n",
       "      <td>[2.297311061527454, 0.11218153077399037]</td>\n",
       "      <td>[2.276408794306698, 0.08502108251737077]</td>\n",
       "    </tr>\n",
       "    <tr>\n",
       "      <th>Wtilde</th>\n",
       "      <td>[[1.0581511200534628, -0.6645030719061765], [-...</td>\n",
       "      <td>[[-0.11604415987541336, -1.192318168175603], [...</td>\n",
       "    </tr>\n",
       "    <tr>\n",
       "      <th>reason</th>\n",
       "      <th>–</th>\n",
       "      <th>–</th>\n",
       "      <th>–</th>\n",
       "      <th>–</th>\n",
       "      <td>Test fit OUInput\\n\\nObserved latents\\n\\n- OU +...</td>\n",
       "      <td>Test fit OUInput\\n\\nObserved latents\\n\\n- OU +...</td>\n",
       "    </tr>\n",
       "  </tbody>\n",
       "</table>\n",
       "</div>"
      ],
      "text/plain": [
       "                                                                                                 pset 1  \\\n",
       "inputs digest        –                 –      –                                7b84e7ecbb__nsteps_25000   \n",
       "       recorders     –                 –      –       [{'name': 'log L', 'keys': None, 'interval': 1...   \n",
       "       hashed_digest –                 –      –                                              7b84e7ecbb   \n",
       "       optimizer     latent_cache_path –      –                                .cache/latents_process-2   \n",
       "                     model             params μtilde         [-0.2644939661170402, -0.6205617416379619]   \n",
       "                                              τtilde            [2.5375870766829345, 2.209510172754845]   \n",
       "                                              σtilde           [2.297311061527454, 0.11218153077399037]   \n",
       "                                              Wtilde  [[1.0581511200534628, -0.6645030719061765], [-...   \n",
       "reason –             –                 –      –       Test fit OUInput\\n\\nObserved latents\\n\\n- OU +...   \n",
       "\n",
       "                                                                                                 pset 2  \n",
       "inputs digest        –                 –      –                                e177c4e9ca__nsteps_25000  \n",
       "       recorders     –                 –      –       [{'name': 'log L', 'keys': None, 'interval': 1...  \n",
       "       hashed_digest –                 –      –                                              e177c4e9ca  \n",
       "       optimizer     latent_cache_path –      –                                .cache/latents_process-4  \n",
       "                     model             params μtilde         [-2.261403657553197, -0.11352527517905774]  \n",
       "                                              τtilde          [0.23277087700432836, 1.4732451278346765]  \n",
       "                                              σtilde           [2.276408794306698, 0.08502108251737077]  \n",
       "                                              Wtilde  [[-0.11604415987541336, -1.192318168175603], [...  \n",
       "reason –             –                 –      –       Test fit OUInput\\n\\nObserved latents\\n\\n- OU +...  "
      ]
     },
     "execution_count": 22,
     "metadata": {},
     "output_type": "execute_result"
    }
   ],
   "source": [
    "dfdiff(params1, params2)"
   ]
  },
  {
   "cell_type": "code",
   "execution_count": 23,
   "metadata": {},
   "outputs": [
    {
     "data": {
      "text/html": [
       "<div>\n",
       "<style scoped>\n",
       "    .dataframe tbody tr th:only-of-type {\n",
       "        vertical-align: middle;\n",
       "    }\n",
       "\n",
       "    .dataframe tbody tr th {\n",
       "        vertical-align: top;\n",
       "    }\n",
       "\n",
       "    .dataframe thead th {\n",
       "        text-align: right;\n",
       "    }\n",
       "</style>\n",
       "<table border=\"1\" class=\"dataframe\">\n",
       "  <thead>\n",
       "    <tr style=\"text-align: right;\">\n",
       "      <th></th>\n",
       "      <th></th>\n",
       "      <th>pset 1</th>\n",
       "      <th>pset 2</th>\n",
       "    </tr>\n",
       "  </thead>\n",
       "  <tbody>\n",
       "    <tr>\n",
       "      <th rowspan=\"4\" valign=\"top\">params</th>\n",
       "      <th>Wtilde</th>\n",
       "      <td>[[1.0581511200534628, -0.6645030719061765], [-...</td>\n",
       "      <td>[[-0.11604415987541336, -1.192318168175603], [...</td>\n",
       "    </tr>\n",
       "    <tr>\n",
       "      <th>μtilde</th>\n",
       "      <td>[-0.2644939661170402, -0.6205617416379619]</td>\n",
       "      <td>[-2.261403657553197, -0.11352527517905774]</td>\n",
       "    </tr>\n",
       "    <tr>\n",
       "      <th>σtilde</th>\n",
       "      <td>[2.297311061527454, 0.11218153077399037]</td>\n",
       "      <td>[2.276408794306698, 0.08502108251737077]</td>\n",
       "    </tr>\n",
       "    <tr>\n",
       "      <th>τtilde</th>\n",
       "      <td>[2.5375870766829345, 2.209510172754845]</td>\n",
       "      <td>[0.23277087700432836, 1.4732451278346765]</td>\n",
       "    </tr>\n",
       "  </tbody>\n",
       "</table>\n",
       "</div>"
      ],
      "text/plain": [
       "                                                          pset 1  \\\n",
       "params Wtilde  [[1.0581511200534628, -0.6645030719061765], [-...   \n",
       "       μtilde         [-0.2644939661170402, -0.6205617416379619]   \n",
       "       σtilde           [2.297311061527454, 0.11218153077399037]   \n",
       "       τtilde            [2.5375870766829345, 2.209510172754845]   \n",
       "\n",
       "                                                          pset 2  \n",
       "params Wtilde  [[-0.11604415987541336, -1.192318168175603], [...  \n",
       "       μtilde         [-2.261403657553197, -0.11352527517905774]  \n",
       "       σtilde           [2.276408794306698, 0.08502108251737077]  \n",
       "       τtilde          [0.23277087700432836, 1.4732451278346765]  "
      ]
     },
     "execution_count": 23,
     "metadata": {},
     "output_type": "execute_result"
    }
   ],
   "source": [
    "dfdiff(params1, params2).sort_index().loc[('inputs','optimizer','model')]"
   ]
  },
  {
   "cell_type": "markdown",
   "metadata": {},
   "source": [
    "### Comparing multiple records\n",
    "\n",
    "The *mackelab_toolbox* also provides the `ParameterComparison` object, which is not limited to binary comparisons and works directly on either records or parameter sets. Below we compare all the records executed on the 10th of November 2020:\n",
    "\n",
    "> `ParameterComparison` is essentially doing an outer product of all key/value pairs in all parameter sets, and storing any difference. In the worst case, the memory requirements can therefore be exponential in the number of records compared."
   ]
  },
  {
   "cell_type": "code",
   "execution_count": 24,
   "metadata": {},
   "outputs": [
    {
     "data": {
      "application/vnd.jupyter.widget-view+json": {
       "model_id": "9f3699970f7f440a95e24a56a5446b72",
       "version_major": 2,
       "version_minor": 0
      },
      "text/plain": [
       "HBox(children=(HTML(value=''), FloatProgress(value=1.0, bar_style='info', layout=Layout(width='20px'), max=1.0…"
      ]
     },
     "metadata": {},
     "output_type": "display_data"
    },
    {
     "name": "stdout",
     "output_type": "stream",
     "text": [
      "\n"
     ]
    }
   ],
   "source": [
    "cmp = ParameterComparison(rsview.filter.on(20201110))"
   ]
  },
  {
   "cell_type": "markdown",
   "metadata": {},
   "source": [
    "To display the results of the comparison, use the `.dataframe()` method. By default, differences in hierarchical parameters are folded (indicated by `<+>`) to keep things legible even with large hierarchichal parameter sets."
   ]
  },
  {
   "cell_type": "code",
   "execution_count": 25,
   "metadata": {},
   "outputs": [
    {
     "data": {
      "text/html": [
       "<div>\n",
       "<style scoped>\n",
       "    .dataframe tbody tr th:only-of-type {\n",
       "        vertical-align: middle;\n",
       "    }\n",
       "\n",
       "    .dataframe tbody tr th {\n",
       "        vertical-align: top;\n",
       "    }\n",
       "\n",
       "    .dataframe thead th {\n",
       "        text-align: right;\n",
       "    }\n",
       "</style>\n",
       "<table border=\"1\" class=\"dataframe\">\n",
       "  <thead>\n",
       "    <tr style=\"text-align: right;\">\n",
       "      <th></th>\n",
       "      <th>inputs</th>\n",
       "      <th>reason</th>\n",
       "    </tr>\n",
       "  </thead>\n",
       "  <tbody>\n",
       "    <tr>\n",
       "      <th>20201110-213237_87825b</th>\n",
       "      <td>&lt;+&gt;</td>\n",
       "      <td>Test fit OUInput\\n\\nObserved latents\\n\\n- OU +...</td>\n",
       "    </tr>\n",
       "    <tr>\n",
       "      <th>20201110-213215_acd030</th>\n",
       "      <td>&lt;+&gt;</td>\n",
       "      <td>Test fit OUInput\\n\\nObserved latents\\n\\n- OU +...</td>\n",
       "    </tr>\n",
       "    <tr>\n",
       "      <th>20201110-213133_4ca955</th>\n",
       "      <td>&lt;+&gt;</td>\n",
       "      <td>Test fit OUInput\\n\\nObserved latents\\n\\n- OU +...</td>\n",
       "    </tr>\n",
       "    <tr>\n",
       "      <th>20201110-213127_351be7</th>\n",
       "      <td>&lt;+&gt;</td>\n",
       "      <td>Test fit OUInput\\n\\nObserved latents\\n\\n- OU +...</td>\n",
       "    </tr>\n",
       "    <tr>\n",
       "      <th>20201110-213116_cce369</th>\n",
       "      <td>&lt;+&gt;</td>\n",
       "      <td>Test fit OUInput\\n\\nObserved latents\\n\\n- OU +...</td>\n",
       "    </tr>\n",
       "    <tr>\n",
       "      <th>...</th>\n",
       "      <td>...</td>\n",
       "      <td>...</td>\n",
       "    </tr>\n",
       "    <tr>\n",
       "      <th>20201110-172330_3a1378</th>\n",
       "      <td>&lt;+&gt;</td>\n",
       "      <td>Test fit OUInput\\n\\nObserved latents\\n\\n- OU +...</td>\n",
       "    </tr>\n",
       "    <tr>\n",
       "      <th>20201110-172330_0dc62d</th>\n",
       "      <td>&lt;+&gt;</td>\n",
       "      <td>Test fit OUInput\\n\\nObserved latents\\n\\n- OU +...</td>\n",
       "    </tr>\n",
       "    <tr>\n",
       "      <th>20201110-172330_de06e3</th>\n",
       "      <td>&lt;+&gt;</td>\n",
       "      <td>Test fit OUInput\\n\\nObserved latents\\n\\n- OU +...</td>\n",
       "    </tr>\n",
       "    <tr>\n",
       "      <th>20201110-172330_8ad9ee</th>\n",
       "      <td>&lt;+&gt;</td>\n",
       "      <td>Test fit OUInput\\n\\nObserved latents\\n\\n- OU +...</td>\n",
       "    </tr>\n",
       "    <tr>\n",
       "      <th>20201110-172330_63c42a</th>\n",
       "      <td>&lt;+&gt;</td>\n",
       "      <td>Test fit OUInput\\n\\nObserved latents\\n\\n- OU +...</td>\n",
       "    </tr>\n",
       "  </tbody>\n",
       "</table>\n",
       "<p>24 rows × 2 columns</p>\n",
       "</div>"
      ],
      "text/plain": [
       "                       inputs  \\\n",
       "20201110-213237_87825b    <+>   \n",
       "20201110-213215_acd030    <+>   \n",
       "20201110-213133_4ca955    <+>   \n",
       "20201110-213127_351be7    <+>   \n",
       "20201110-213116_cce369    <+>   \n",
       "...                       ...   \n",
       "20201110-172330_3a1378    <+>   \n",
       "20201110-172330_0dc62d    <+>   \n",
       "20201110-172330_de06e3    <+>   \n",
       "20201110-172330_8ad9ee    <+>   \n",
       "20201110-172330_63c42a    <+>   \n",
       "\n",
       "                                                                   reason  \n",
       "20201110-213237_87825b  Test fit OUInput\\n\\nObserved latents\\n\\n- OU +...  \n",
       "20201110-213215_acd030  Test fit OUInput\\n\\nObserved latents\\n\\n- OU +...  \n",
       "20201110-213133_4ca955  Test fit OUInput\\n\\nObserved latents\\n\\n- OU +...  \n",
       "20201110-213127_351be7  Test fit OUInput\\n\\nObserved latents\\n\\n- OU +...  \n",
       "20201110-213116_cce369  Test fit OUInput\\n\\nObserved latents\\n\\n- OU +...  \n",
       "...                                                                   ...  \n",
       "20201110-172330_3a1378  Test fit OUInput\\n\\nObserved latents\\n\\n- OU +...  \n",
       "20201110-172330_0dc62d  Test fit OUInput\\n\\nObserved latents\\n\\n- OU +...  \n",
       "20201110-172330_de06e3  Test fit OUInput\\n\\nObserved latents\\n\\n- OU +...  \n",
       "20201110-172330_8ad9ee  Test fit OUInput\\n\\nObserved latents\\n\\n- OU +...  \n",
       "20201110-172330_63c42a  Test fit OUInput\\n\\nObserved latents\\n\\n- OU +...  \n",
       "\n",
       "[24 rows x 2 columns]"
      ]
     },
     "execution_count": 25,
     "metadata": {},
     "output_type": "execute_result"
    }
   ],
   "source": [
    "cmp.dataframe()"
   ]
  },
  {
   "cell_type": "markdown",
   "metadata": {},
   "source": [
    "We use the `depth` keyword argument to drill down into the the comparison.\n",
    "\n",
    "Often when doing this we want to hide certain columns; for example, since the *reason* column is free-form text, it may not useful in determining what caused two computations to differ. Since this is a standard *Dataframe*, we can hide columns with `.drop(columns=...)`."
   ]
  },
  {
   "cell_type": "code",
   "execution_count": 26,
   "metadata": {},
   "outputs": [
    {
     "data": {
      "text/html": [
       "<div>\n",
       "<style scoped>\n",
       "    .dataframe tbody tr th:only-of-type {\n",
       "        vertical-align: middle;\n",
       "    }\n",
       "\n",
       "    .dataframe tbody tr th {\n",
       "        vertical-align: top;\n",
       "    }\n",
       "\n",
       "    .dataframe thead th {\n",
       "        text-align: right;\n",
       "    }\n",
       "</style>\n",
       "<table border=\"1\" class=\"dataframe\">\n",
       "  <thead>\n",
       "    <tr style=\"text-align: right;\">\n",
       "      <th></th>\n",
       "      <th>inputs.hashed_digest</th>\n",
       "      <th>inputs.recorders</th>\n",
       "      <th>inputs.optimizer</th>\n",
       "      <th>inputs.digest</th>\n",
       "    </tr>\n",
       "  </thead>\n",
       "  <tbody>\n",
       "    <tr>\n",
       "      <th>20201110-213237_87825b</th>\n",
       "      <td>87825b4f90</td>\n",
       "      <td>[{'name': 'log L', 'keys': None, 'interval': 1...</td>\n",
       "      <td>&lt;+&gt;</td>\n",
       "      <td>87825b4f90__nsteps_25000</td>\n",
       "    </tr>\n",
       "    <tr>\n",
       "      <th>20201110-213215_acd030</th>\n",
       "      <td>acd0303f20</td>\n",
       "      <td>[{'name': 'log L', 'keys': None, 'interval': 1...</td>\n",
       "      <td>&lt;+&gt;</td>\n",
       "      <td>acd0303f20__nsteps_25000</td>\n",
       "    </tr>\n",
       "    <tr>\n",
       "      <th>20201110-213133_4ca955</th>\n",
       "      <td>4ca955e136</td>\n",
       "      <td>[{'name': 'log L', 'keys': None, 'interval': 1...</td>\n",
       "      <td>&lt;+&gt;</td>\n",
       "      <td>4ca955e136__nsteps_25000</td>\n",
       "    </tr>\n",
       "    <tr>\n",
       "      <th>20201110-213127_351be7</th>\n",
       "      <td>351be75bdc</td>\n",
       "      <td>[{'name': 'log L', 'keys': None, 'interval': 1...</td>\n",
       "      <td>&lt;+&gt;</td>\n",
       "      <td>351be75bdc__nsteps_25000</td>\n",
       "    </tr>\n",
       "    <tr>\n",
       "      <th>20201110-213116_cce369</th>\n",
       "      <td>cce369d5f6</td>\n",
       "      <td>[{'name': 'log L', 'keys': None, 'interval': 1...</td>\n",
       "      <td>&lt;+&gt;</td>\n",
       "      <td>cce369d5f6__nsteps_25000</td>\n",
       "    </tr>\n",
       "    <tr>\n",
       "      <th>...</th>\n",
       "      <td>...</td>\n",
       "      <td>...</td>\n",
       "      <td>...</td>\n",
       "      <td>...</td>\n",
       "    </tr>\n",
       "    <tr>\n",
       "      <th>20201110-172330_3a1378</th>\n",
       "      <td>3a137881ef</td>\n",
       "      <td>[{'name': 'log L', 'keys': None, 'interval': 1...</td>\n",
       "      <td>&lt;+&gt;</td>\n",
       "      <td>3a137881ef__nsteps_25000</td>\n",
       "    </tr>\n",
       "    <tr>\n",
       "      <th>20201110-172330_0dc62d</th>\n",
       "      <td>0dc62d9f89</td>\n",
       "      <td>[{'name': 'log L', 'keys': None, 'interval': 1...</td>\n",
       "      <td>&lt;+&gt;</td>\n",
       "      <td>0dc62d9f89__nsteps_25000</td>\n",
       "    </tr>\n",
       "    <tr>\n",
       "      <th>20201110-172330_de06e3</th>\n",
       "      <td>de06e30753</td>\n",
       "      <td>[{'name': 'log L', 'keys': None, 'interval': 1...</td>\n",
       "      <td>&lt;+&gt;</td>\n",
       "      <td>de06e30753__nsteps_25000</td>\n",
       "    </tr>\n",
       "    <tr>\n",
       "      <th>20201110-172330_8ad9ee</th>\n",
       "      <td>8ad9ee4be0</td>\n",
       "      <td>[{'name': 'log L', 'keys': None, 'interval': 1...</td>\n",
       "      <td>&lt;+&gt;</td>\n",
       "      <td>8ad9ee4be0__nsteps_25000</td>\n",
       "    </tr>\n",
       "    <tr>\n",
       "      <th>20201110-172330_63c42a</th>\n",
       "      <td>63c42a50c5</td>\n",
       "      <td>[{'name': 'log L', 'keys': None, 'interval': 1...</td>\n",
       "      <td>&lt;+&gt;</td>\n",
       "      <td>63c42a50c5__nsteps_25000</td>\n",
       "    </tr>\n",
       "  </tbody>\n",
       "</table>\n",
       "<p>24 rows × 4 columns</p>\n",
       "</div>"
      ],
      "text/plain": [
       "                       inputs.hashed_digest  \\\n",
       "20201110-213237_87825b           87825b4f90   \n",
       "20201110-213215_acd030           acd0303f20   \n",
       "20201110-213133_4ca955           4ca955e136   \n",
       "20201110-213127_351be7           351be75bdc   \n",
       "20201110-213116_cce369           cce369d5f6   \n",
       "...                                     ...   \n",
       "20201110-172330_3a1378           3a137881ef   \n",
       "20201110-172330_0dc62d           0dc62d9f89   \n",
       "20201110-172330_de06e3           de06e30753   \n",
       "20201110-172330_8ad9ee           8ad9ee4be0   \n",
       "20201110-172330_63c42a           63c42a50c5   \n",
       "\n",
       "                                                         inputs.recorders  \\\n",
       "20201110-213237_87825b  [{'name': 'log L', 'keys': None, 'interval': 1...   \n",
       "20201110-213215_acd030  [{'name': 'log L', 'keys': None, 'interval': 1...   \n",
       "20201110-213133_4ca955  [{'name': 'log L', 'keys': None, 'interval': 1...   \n",
       "20201110-213127_351be7  [{'name': 'log L', 'keys': None, 'interval': 1...   \n",
       "20201110-213116_cce369  [{'name': 'log L', 'keys': None, 'interval': 1...   \n",
       "...                                                                   ...   \n",
       "20201110-172330_3a1378  [{'name': 'log L', 'keys': None, 'interval': 1...   \n",
       "20201110-172330_0dc62d  [{'name': 'log L', 'keys': None, 'interval': 1...   \n",
       "20201110-172330_de06e3  [{'name': 'log L', 'keys': None, 'interval': 1...   \n",
       "20201110-172330_8ad9ee  [{'name': 'log L', 'keys': None, 'interval': 1...   \n",
       "20201110-172330_63c42a  [{'name': 'log L', 'keys': None, 'interval': 1...   \n",
       "\n",
       "                       inputs.optimizer             inputs.digest  \n",
       "20201110-213237_87825b              <+>  87825b4f90__nsteps_25000  \n",
       "20201110-213215_acd030              <+>  acd0303f20__nsteps_25000  \n",
       "20201110-213133_4ca955              <+>  4ca955e136__nsteps_25000  \n",
       "20201110-213127_351be7              <+>  351be75bdc__nsteps_25000  \n",
       "20201110-213116_cce369              <+>  cce369d5f6__nsteps_25000  \n",
       "...                                 ...                       ...  \n",
       "20201110-172330_3a1378              <+>  3a137881ef__nsteps_25000  \n",
       "20201110-172330_0dc62d              <+>  0dc62d9f89__nsteps_25000  \n",
       "20201110-172330_de06e3              <+>  de06e30753__nsteps_25000  \n",
       "20201110-172330_8ad9ee              <+>  8ad9ee4be0__nsteps_25000  \n",
       "20201110-172330_63c42a              <+>  63c42a50c5__nsteps_25000  \n",
       "\n",
       "[24 rows x 4 columns]"
      ]
     },
     "execution_count": 26,
     "metadata": {},
     "output_type": "execute_result"
    }
   ],
   "source": [
    "cmp.dataframe(depth=2).drop(columns=['reason'])"
   ]
  },
  {
   "cell_type": "markdown",
   "metadata": {},
   "source": [
    "> **Hint**: Don't underestimate the value of recording useful information in a task's “reason” attribute. Below are the recorded “reasons” for the first 4 entries in the same record list:"
   ]
  },
  {
   "cell_type": "code",
   "execution_count": 40,
   "metadata": {},
   "outputs": [
    {
     "name": "stdout",
     "output_type": "stream",
     "text": [
      "----- 20201110-213237_87825b -------\n",
      "Test fit OUInput\n",
      "\n",
      "Observed latents\n",
      "\n",
      "- OU + Linear projection\n",
      "- Synthetic data\n",
      "- Init params: (5, 33)\n",
      "- 25000 passes\n",
      "- params: {'λθ': 0.0001}\n",
      "\n",
      "----- 20201110-213215_acd030 -------\n",
      "Test fit OUInput\n",
      "\n",
      "Observed latents\n",
      "\n",
      "- OU + Linear projection\n",
      "- Synthetic data\n",
      "- Init params: (5, 34)\n",
      "- 25000 passes\n",
      "- params: {'λθ': 0.0001}\n",
      "\n",
      "----- 20201110-213133_4ca955 -------\n",
      "Test fit OUInput\n",
      "\n",
      "Observed latents\n",
      "\n",
      "- OU + Linear projection\n",
      "- Synthetic data\n",
      "- Init params: (5, 25)\n",
      "- 25000 passes\n",
      "- params: {'λθ': 0.0002}\n",
      "\n",
      "----- 20201110-213127_351be7 -------\n",
      "Test fit OUInput\n",
      "\n",
      "Observed latents\n",
      "\n",
      "- OU + Linear projection\n",
      "- Synthetic data\n",
      "- Init params: (5, 55)\n",
      "- 25000 passes\n",
      "- params: {'λθ': 0.0001}\n",
      "\n"
     ]
    }
   ],
   "source": [
    "for rec, _ in zip(records, range(4)):\n",
    "    print(f\"----- {rec.label} -------\")\n",
    "    print(\"\\n\".join(rec.reason))\n",
    "    print(\"\")"
   ]
  },
  {
   "cell_type": "markdown",
   "metadata": {},
   "source": [
    "### Limitation\n",
    "\n",
    "Parameters for a task *T* can be specified either as values or as other tasks. In the latter case, the serialization of the task creates a *task description* with the keys *taskname*, *module* and *inputs*. The *inputs* entry can itself contain the serialization of other tasks – thus is the entire specification for *T* saved and recoverable from the record store.\n",
    "\n",
    "However, this does make it more difficult to compare records if in some cases parameters are specified as values, and in others as task descriptions – since those can never be equal.\n",
    "\n",
    "The function `fold_task_inputs()` (found in *smttask.utils*) can help working with these nested parameter sets created by chained tasks: it replaces task descriptions by the contents of their *inputs*. (In many cases the *taskname* is the same for all records.) This doesn't solve the problem of values differing from task descriptions, but at least the latter don't create such deeply nested hierarchies."
   ]
  },
  {
   "cell_type": "code",
   "execution_count": 28,
   "metadata": {},
   "outputs": [
    {
     "data": {
      "application/vnd.jupyter.widget-view+json": {
       "model_id": "1841719cb4ae498e9973df57e2756b31",
       "version_major": 2,
       "version_minor": 0
      },
      "text/plain": [
       "HBox(children=(HTML(value=''), FloatProgress(value=0.0, max=24.0), HTML(value='')))"
      ]
     },
     "metadata": {},
     "output_type": "display_data"
    },
    {
     "name": "stdout",
     "output_type": "stream",
     "text": [
      "\n"
     ]
    }
   ],
   "source": [
    "records = rsview.filter.on(20201110).list\n",
    "cmp = ParameterComparison(params=[smttask.utils.fold_task_inputs(rec.parameters)\n",
    "                                  for rec in records],\n",
    "                          labels=[rec.label for rec in records])"
   ]
  },
  {
   "cell_type": "code",
   "execution_count": 29,
   "metadata": {},
   "outputs": [
    {
     "data": {
      "text/html": [
       "<div>\n",
       "<style scoped>\n",
       "    .dataframe tbody tr th:only-of-type {\n",
       "        vertical-align: middle;\n",
       "    }\n",
       "\n",
       "    .dataframe tbody tr th {\n",
       "        vertical-align: top;\n",
       "    }\n",
       "\n",
       "    .dataframe thead th {\n",
       "        text-align: right;\n",
       "    }\n",
       "</style>\n",
       "<table border=\"1\" class=\"dataframe\">\n",
       "  <thead>\n",
       "    <tr style=\"text-align: right;\">\n",
       "      <th></th>\n",
       "      <th>hashed_digest</th>\n",
       "      <th>recorders</th>\n",
       "      <th>optimizer</th>\n",
       "      <th>digest</th>\n",
       "    </tr>\n",
       "  </thead>\n",
       "  <tbody>\n",
       "    <tr>\n",
       "      <th>20201110-213237_87825b</th>\n",
       "      <td>87825b4f90</td>\n",
       "      <td>[{'name': 'log L', 'keys': None, 'interval': 1...</td>\n",
       "      <td>&lt;+&gt;</td>\n",
       "      <td>87825b4f90__nsteps_25000</td>\n",
       "    </tr>\n",
       "    <tr>\n",
       "      <th>20201110-213215_acd030</th>\n",
       "      <td>acd0303f20</td>\n",
       "      <td>[{'name': 'log L', 'keys': None, 'interval': 1...</td>\n",
       "      <td>&lt;+&gt;</td>\n",
       "      <td>acd0303f20__nsteps_25000</td>\n",
       "    </tr>\n",
       "    <tr>\n",
       "      <th>20201110-213133_4ca955</th>\n",
       "      <td>4ca955e136</td>\n",
       "      <td>[{'name': 'log L', 'keys': None, 'interval': 1...</td>\n",
       "      <td>&lt;+&gt;</td>\n",
       "      <td>4ca955e136__nsteps_25000</td>\n",
       "    </tr>\n",
       "    <tr>\n",
       "      <th>20201110-213127_351be7</th>\n",
       "      <td>351be75bdc</td>\n",
       "      <td>[{'name': 'log L', 'keys': None, 'interval': 1...</td>\n",
       "      <td>&lt;+&gt;</td>\n",
       "      <td>351be75bdc__nsteps_25000</td>\n",
       "    </tr>\n",
       "    <tr>\n",
       "      <th>20201110-213116_cce369</th>\n",
       "      <td>cce369d5f6</td>\n",
       "      <td>[{'name': 'log L', 'keys': None, 'interval': 1...</td>\n",
       "      <td>&lt;+&gt;</td>\n",
       "      <td>cce369d5f6__nsteps_25000</td>\n",
       "    </tr>\n",
       "    <tr>\n",
       "      <th>...</th>\n",
       "      <td>...</td>\n",
       "      <td>...</td>\n",
       "      <td>...</td>\n",
       "      <td>...</td>\n",
       "    </tr>\n",
       "    <tr>\n",
       "      <th>20201110-172330_3a1378</th>\n",
       "      <td>3a137881ef</td>\n",
       "      <td>[{'name': 'log L', 'keys': None, 'interval': 1...</td>\n",
       "      <td>&lt;+&gt;</td>\n",
       "      <td>3a137881ef__nsteps_25000</td>\n",
       "    </tr>\n",
       "    <tr>\n",
       "      <th>20201110-172330_0dc62d</th>\n",
       "      <td>0dc62d9f89</td>\n",
       "      <td>[{'name': 'log L', 'keys': None, 'interval': 1...</td>\n",
       "      <td>&lt;+&gt;</td>\n",
       "      <td>0dc62d9f89__nsteps_25000</td>\n",
       "    </tr>\n",
       "    <tr>\n",
       "      <th>20201110-172330_de06e3</th>\n",
       "      <td>de06e30753</td>\n",
       "      <td>[{'name': 'log L', 'keys': None, 'interval': 1...</td>\n",
       "      <td>&lt;+&gt;</td>\n",
       "      <td>de06e30753__nsteps_25000</td>\n",
       "    </tr>\n",
       "    <tr>\n",
       "      <th>20201110-172330_8ad9ee</th>\n",
       "      <td>8ad9ee4be0</td>\n",
       "      <td>[{'name': 'log L', 'keys': None, 'interval': 1...</td>\n",
       "      <td>&lt;+&gt;</td>\n",
       "      <td>8ad9ee4be0__nsteps_25000</td>\n",
       "    </tr>\n",
       "    <tr>\n",
       "      <th>20201110-172330_63c42a</th>\n",
       "      <td>63c42a50c5</td>\n",
       "      <td>[{'name': 'log L', 'keys': None, 'interval': 1...</td>\n",
       "      <td>&lt;+&gt;</td>\n",
       "      <td>63c42a50c5__nsteps_25000</td>\n",
       "    </tr>\n",
       "  </tbody>\n",
       "</table>\n",
       "<p>24 rows × 4 columns</p>\n",
       "</div>"
      ],
      "text/plain": [
       "                       hashed_digest  \\\n",
       "20201110-213237_87825b    87825b4f90   \n",
       "20201110-213215_acd030    acd0303f20   \n",
       "20201110-213133_4ca955    4ca955e136   \n",
       "20201110-213127_351be7    351be75bdc   \n",
       "20201110-213116_cce369    cce369d5f6   \n",
       "...                              ...   \n",
       "20201110-172330_3a1378    3a137881ef   \n",
       "20201110-172330_0dc62d    0dc62d9f89   \n",
       "20201110-172330_de06e3    de06e30753   \n",
       "20201110-172330_8ad9ee    8ad9ee4be0   \n",
       "20201110-172330_63c42a    63c42a50c5   \n",
       "\n",
       "                                                                recorders  \\\n",
       "20201110-213237_87825b  [{'name': 'log L', 'keys': None, 'interval': 1...   \n",
       "20201110-213215_acd030  [{'name': 'log L', 'keys': None, 'interval': 1...   \n",
       "20201110-213133_4ca955  [{'name': 'log L', 'keys': None, 'interval': 1...   \n",
       "20201110-213127_351be7  [{'name': 'log L', 'keys': None, 'interval': 1...   \n",
       "20201110-213116_cce369  [{'name': 'log L', 'keys': None, 'interval': 1...   \n",
       "...                                                                   ...   \n",
       "20201110-172330_3a1378  [{'name': 'log L', 'keys': None, 'interval': 1...   \n",
       "20201110-172330_0dc62d  [{'name': 'log L', 'keys': None, 'interval': 1...   \n",
       "20201110-172330_de06e3  [{'name': 'log L', 'keys': None, 'interval': 1...   \n",
       "20201110-172330_8ad9ee  [{'name': 'log L', 'keys': None, 'interval': 1...   \n",
       "20201110-172330_63c42a  [{'name': 'log L', 'keys': None, 'interval': 1...   \n",
       "\n",
       "                       optimizer                    digest  \n",
       "20201110-213237_87825b       <+>  87825b4f90__nsteps_25000  \n",
       "20201110-213215_acd030       <+>  acd0303f20__nsteps_25000  \n",
       "20201110-213133_4ca955       <+>  4ca955e136__nsteps_25000  \n",
       "20201110-213127_351be7       <+>  351be75bdc__nsteps_25000  \n",
       "20201110-213116_cce369       <+>  cce369d5f6__nsteps_25000  \n",
       "...                          ...                       ...  \n",
       "20201110-172330_3a1378       <+>  3a137881ef__nsteps_25000  \n",
       "20201110-172330_0dc62d       <+>  0dc62d9f89__nsteps_25000  \n",
       "20201110-172330_de06e3       <+>  de06e30753__nsteps_25000  \n",
       "20201110-172330_8ad9ee       <+>  8ad9ee4be0__nsteps_25000  \n",
       "20201110-172330_63c42a       <+>  63c42a50c5__nsteps_25000  \n",
       "\n",
       "[24 rows x 4 columns]"
      ]
     },
     "execution_count": 29,
     "metadata": {},
     "output_type": "execute_result"
    }
   ],
   "source": [
    "cmp.dataframe(depth=1)"
   ]
  },
  {
   "cell_type": "markdown",
   "metadata": {},
   "source": [
    "## Retrieving parameter values\n",
    "\n",
    "Serialization establishes an equivalence between `Tasks`, *task descriptions* and `ParameterSet`s, but each has their own syntax to retrieve particular parameters. This is especially cumbersome with nested structures, where these types can arbitrarily mix. The function `get_task_param` (again from *smttask.utils*) provides a unique syntax that works with every object, and supports nested selection."
   ]
  },
  {
   "cell_type": "code",
   "execution_count": 30,
   "metadata": {},
   "outputs": [
    {
     "data": {
      "text/plain": [
       "[3.3860280584311826, -0.11294867494456073]"
      ]
     },
     "execution_count": 30,
     "metadata": {},
     "output_type": "execute_result"
    }
   ],
   "source": [
    "smttask.utils.get_task_param(records.latest, 'optimizer.model.params.μtilde')    # Record"
   ]
  },
  {
   "cell_type": "code",
   "execution_count": 31,
   "metadata": {},
   "outputs": [
    {
     "data": {
      "text/plain": [
       "[3.3860280584311826, -0.11294867494456073]"
      ]
     },
     "execution_count": 31,
     "metadata": {},
     "output_type": "execute_result"
    }
   ],
   "source": [
    "smttask.utils.get_task_param(records.latest.parameters,                          # ParameterSet\n",
    "                             'optimizer.model.params.μtilde')"
   ]
  },
  {
   "cell_type": "code",
   "execution_count": 33,
   "metadata": {},
   "outputs": [
    {
     "data": {
      "text/plain": [
       "array([ 3.38602806, -0.11294867])"
      ]
     },
     "execution_count": 33,
     "metadata": {},
     "output_type": "execute_result"
    }
   ],
   "source": [
    "smttask.utils.get_task_param(smttask.Task.from_desc(records.latest.parameters),  # Task\n",
    "                             'optimizer.model.params.μtilde').get_value()"
   ]
  }
 ],
 "metadata": {
  "jupytext": {
   "encoding": "# -*- coding: utf-8 -*-",
   "formats": "ipynb,py:percent"
  },
  "kernelspec": {
   "display_name": "Python (IndEEG)",
   "language": "python",
   "name": "indeeg"
  },
  "language_info": {
   "codemirror_mode": {
    "name": "ipython",
    "version": 3
   },
   "file_extension": ".py",
   "mimetype": "text/x-python",
   "name": "python",
   "nbconvert_exporter": "python",
   "pygments_lexer": "ipython3",
   "version": "3.8.6"
  }
 },
 "nbformat": 4,
 "nbformat_minor": 4
}
