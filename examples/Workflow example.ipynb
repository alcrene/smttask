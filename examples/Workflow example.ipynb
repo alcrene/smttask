{
 "cells": [
  {
   "cell_type": "markdown",
   "metadata": {},
   "source": [
    "This notebook sketches a possible approach to building *smttask* workflows based on Jupyter notebooks, from specifying task dependencies to deploying for computation on a potentially remote machine."
   ]
  },
  {
   "cell_type": "markdown",
   "metadata": {},
   "source": [
    "# Set up your environment\n",
    "\n",
    "You you haven't already, you should get familiar with the *smttask* [workflow concept](../docs/basics.rst).\n",
    "\n",
    "The reference at the above link will also help you configure your environment. You will need to do so to run the code samples below."
   ]
  },
  {
   "cell_type": "markdown",
   "metadata": {},
   "source": [
    "Move to the directory containing the Sumatra project and task definitions."
   ]
  },
  {
   "cell_type": "code",
   "execution_count": 1,
   "metadata": {},
   "outputs": [
    {
     "name": "stdout",
     "output_type": "stream",
     "text": [
      "/home/alex/Recherche/macke_lab/code/smttask/examples/fft_example\n"
     ]
    }
   ],
   "source": [
    "%cd fft_example"
   ]
  },
  {
   "cell_type": "markdown",
   "metadata": {},
   "source": [
    "# Build the workflow\n",
    "We first open a Jupyter notebook on our local machine and import the packages we need.\n",
    "> **Tip** Place all your imports in an *init.py* file, to reuse your initialization in different notebooks"
   ]
  },
  {
   "cell_type": "code",
   "execution_count": 2,
   "metadata": {},
   "outputs": [],
   "source": [
    "import numpy\n",
    "import matplotlib.pyplot as plt\n",
    "import seaborn as sns\n",
    "import mackelab_toolbox as mtb\n",
    "import smttask\n",
    "from tasks import GenerateData, ProcessData"
   ]
  },
  {
   "cell_type": "markdown",
   "metadata": {},
   "source": [
    "For the purpose of this tutorial we will disabled recording tasks. This allows tasks to be run without them checking that the repository is clean, but they will not be recorded in the Sumatra database and results will not be written to disk."
   ]
  },
  {
   "cell_type": "code",
   "execution_count": 3,
   "metadata": {},
   "outputs": [
    {
     "name": "stderr",
     "output_type": "stream",
     "text": [
      "/home/alex/Recherche/macke_lab/code/smttask/smttask/base.py:118: UserWarning: Recording of tasks has been disabled. Task results will not be written to disk and run parameters not stored in the Sumatra databasa.\n",
      "  warn(\"Recording of tasks has been disabled. Task results will \"\n"
     ]
    }
   ],
   "source": [
    "smttask.config.record = False"
   ]
  },
  {
   "cell_type": "markdown",
   "metadata": {},
   "source": [
    "Our toy workflow here consists of generating three different signals, and “processing” them (i.e. computing their discrete Fourier transform).\n",
    "\n",
    "Tasks are most conveniently defined by decorating a function; the definitions of the tasks used in this example are as follows:"
   ]
  },
  {
   "cell_type": "code",
   "execution_count": 4,
   "metadata": {},
   "outputs": [
    {
     "name": "stdout",
     "output_type": "stream",
     "text": [
      "fft_example/tasks.py:\n"
     ]
    },
    {
     "data": {
      "text/html": [
       "\n",
       "        <style>\n",
       "        .highlight .hll { background-color: #ffffcc }\n",
       ".highlight  { background: #f8f8f8; }\n",
       ".highlight .c { color: #408080; font-style: italic } /* Comment */\n",
       ".highlight .err { border: 1px solid #FF0000 } /* Error */\n",
       ".highlight .k { color: #008000; font-weight: bold } /* Keyword */\n",
       ".highlight .o { color: #666666 } /* Operator */\n",
       ".highlight .ch { color: #408080; font-style: italic } /* Comment.Hashbang */\n",
       ".highlight .cm { color: #408080; font-style: italic } /* Comment.Multiline */\n",
       ".highlight .cp { color: #BC7A00 } /* Comment.Preproc */\n",
       ".highlight .cpf { color: #408080; font-style: italic } /* Comment.PreprocFile */\n",
       ".highlight .c1 { color: #408080; font-style: italic } /* Comment.Single */\n",
       ".highlight .cs { color: #408080; font-style: italic } /* Comment.Special */\n",
       ".highlight .gd { color: #A00000 } /* Generic.Deleted */\n",
       ".highlight .ge { font-style: italic } /* Generic.Emph */\n",
       ".highlight .gr { color: #FF0000 } /* Generic.Error */\n",
       ".highlight .gh { color: #000080; font-weight: bold } /* Generic.Heading */\n",
       ".highlight .gi { color: #00A000 } /* Generic.Inserted */\n",
       ".highlight .go { color: #888888 } /* Generic.Output */\n",
       ".highlight .gp { color: #000080; font-weight: bold } /* Generic.Prompt */\n",
       ".highlight .gs { font-weight: bold } /* Generic.Strong */\n",
       ".highlight .gu { color: #800080; font-weight: bold } /* Generic.Subheading */\n",
       ".highlight .gt { color: #0044DD } /* Generic.Traceback */\n",
       ".highlight .kc { color: #008000; font-weight: bold } /* Keyword.Constant */\n",
       ".highlight .kd { color: #008000; font-weight: bold } /* Keyword.Declaration */\n",
       ".highlight .kn { color: #008000; font-weight: bold } /* Keyword.Namespace */\n",
       ".highlight .kp { color: #008000 } /* Keyword.Pseudo */\n",
       ".highlight .kr { color: #008000; font-weight: bold } /* Keyword.Reserved */\n",
       ".highlight .kt { color: #B00040 } /* Keyword.Type */\n",
       ".highlight .m { color: #666666 } /* Literal.Number */\n",
       ".highlight .s { color: #BA2121 } /* Literal.String */\n",
       ".highlight .na { color: #7D9029 } /* Name.Attribute */\n",
       ".highlight .nb { color: #008000 } /* Name.Builtin */\n",
       ".highlight .nc { color: #0000FF; font-weight: bold } /* Name.Class */\n",
       ".highlight .no { color: #880000 } /* Name.Constant */\n",
       ".highlight .nd { color: #AA22FF } /* Name.Decorator */\n",
       ".highlight .ni { color: #999999; font-weight: bold } /* Name.Entity */\n",
       ".highlight .ne { color: #D2413A; font-weight: bold } /* Name.Exception */\n",
       ".highlight .nf { color: #0000FF } /* Name.Function */\n",
       ".highlight .nl { color: #A0A000 } /* Name.Label */\n",
       ".highlight .nn { color: #0000FF; font-weight: bold } /* Name.Namespace */\n",
       ".highlight .nt { color: #008000; font-weight: bold } /* Name.Tag */\n",
       ".highlight .nv { color: #19177C } /* Name.Variable */\n",
       ".highlight .ow { color: #AA22FF; font-weight: bold } /* Operator.Word */\n",
       ".highlight .w { color: #bbbbbb } /* Text.Whitespace */\n",
       ".highlight .mb { color: #666666 } /* Literal.Number.Bin */\n",
       ".highlight .mf { color: #666666 } /* Literal.Number.Float */\n",
       ".highlight .mh { color: #666666 } /* Literal.Number.Hex */\n",
       ".highlight .mi { color: #666666 } /* Literal.Number.Integer */\n",
       ".highlight .mo { color: #666666 } /* Literal.Number.Oct */\n",
       ".highlight .sa { color: #BA2121 } /* Literal.String.Affix */\n",
       ".highlight .sb { color: #BA2121 } /* Literal.String.Backtick */\n",
       ".highlight .sc { color: #BA2121 } /* Literal.String.Char */\n",
       ".highlight .dl { color: #BA2121 } /* Literal.String.Delimiter */\n",
       ".highlight .sd { color: #BA2121; font-style: italic } /* Literal.String.Doc */\n",
       ".highlight .s2 { color: #BA2121 } /* Literal.String.Double */\n",
       ".highlight .se { color: #BB6622; font-weight: bold } /* Literal.String.Escape */\n",
       ".highlight .sh { color: #BA2121 } /* Literal.String.Heredoc */\n",
       ".highlight .si { color: #BB6688; font-weight: bold } /* Literal.String.Interpol */\n",
       ".highlight .sx { color: #008000 } /* Literal.String.Other */\n",
       ".highlight .sr { color: #BB6688 } /* Literal.String.Regex */\n",
       ".highlight .s1 { color: #BA2121 } /* Literal.String.Single */\n",
       ".highlight .ss { color: #19177C } /* Literal.String.Symbol */\n",
       ".highlight .bp { color: #008000 } /* Name.Builtin.Pseudo */\n",
       ".highlight .fm { color: #0000FF } /* Name.Function.Magic */\n",
       ".highlight .vc { color: #19177C } /* Name.Variable.Class */\n",
       ".highlight .vg { color: #19177C } /* Name.Variable.Global */\n",
       ".highlight .vi { color: #19177C } /* Name.Variable.Instance */\n",
       ".highlight .vm { color: #19177C } /* Name.Variable.Magic */\n",
       ".highlight .il { color: #666666 } /* Literal.Number.Integer.Long */\n",
       "        </style>\n",
       "        "
      ],
      "text/plain": [
       "<IPython.core.display.HTML object>"
      ]
     },
     "metadata": {},
     "output_type": "display_data"
    },
    {
     "data": {
      "text/html": [
       "<div class=\"highlight\"><pre><span></span><span class=\"kn\">import</span> <span class=\"nn\">sys</span>\n",
       "<span class=\"kn\">import</span> <span class=\"nn\">numpy</span> <span class=\"k\">as</span> <span class=\"nn\">np</span>\n",
       "<span class=\"kn\">from</span> <span class=\"nn\">sumatra.parameters</span> <span class=\"kn\">import</span> <span class=\"n\">build_parameters</span><span class=\"p\">,</span> <span class=\"n\">NTParameterSet</span>\n",
       "<span class=\"n\">ParameterSet</span> <span class=\"o\">=</span> <span class=\"n\">NTParameterSet</span>\n",
       "\n",
       "<span class=\"kn\">from</span> <span class=\"nn\">mackelab_toolbox.typing</span> <span class=\"kn\">import</span> <span class=\"n\">Array</span>\n",
       "\n",
       "<span class=\"kn\">from</span> <span class=\"nn\">smttask</span> <span class=\"kn\">import</span> <span class=\"n\">RecordedTask</span><span class=\"p\">,</span> <span class=\"n\">MemoizedTask</span><span class=\"p\">,</span> <span class=\"n\">TaskOutput</span>\n",
       "\n",
       "<span class=\"nd\">@MemoizedTask</span>\n",
       "<span class=\"k\">def</span> <span class=\"nf\">GenerateData</span><span class=\"p\">(</span><span class=\"n\">τ</span><span class=\"p\">:</span> <span class=\"nb\">float</span><span class=\"p\">,</span> <span class=\"n\">σ</span><span class=\"p\">:</span> <span class=\"nb\">float</span><span class=\"p\">,</span> <span class=\"n\">seed</span><span class=\"p\">:</span> <span class=\"nb\">int</span><span class=\"p\">)</span> <span class=\"o\">-&gt;</span> <span class=\"n\">Array</span><span class=\"p\">[</span><span class=\"nb\">float</span><span class=\"p\">,</span> <span class=\"mi\">1</span><span class=\"p\">]:</span>\n",
       "    <span class=\"n\">np</span><span class=\"o\">.</span><span class=\"n\">random</span><span class=\"o\">.</span><span class=\"n\">seed</span><span class=\"p\">(</span><span class=\"n\">seed</span><span class=\"p\">)</span>\n",
       "    <span class=\"n\">x</span> <span class=\"o\">=</span> <span class=\"p\">[</span><span class=\"mi\">0</span><span class=\"p\">]</span>\n",
       "    <span class=\"k\">for</span> <span class=\"n\">i</span> <span class=\"ow\">in</span> <span class=\"nb\">range</span><span class=\"p\">(</span><span class=\"mi\">1000</span><span class=\"p\">):</span>\n",
       "        <span class=\"n\">x</span><span class=\"o\">.</span><span class=\"n\">append</span><span class=\"p\">(</span> <span class=\"p\">(</span><span class=\"mi\">1</span><span class=\"o\">-</span><span class=\"mi\">1</span><span class=\"o\">/</span><span class=\"n\">τ</span><span class=\"p\">)</span><span class=\"o\">*</span><span class=\"n\">x</span><span class=\"p\">[</span><span class=\"n\">i</span><span class=\"o\">-</span><span class=\"mi\">1</span><span class=\"p\">]</span> <span class=\"o\">+</span> <span class=\"n\">np</span><span class=\"o\">.</span><span class=\"n\">random</span><span class=\"o\">.</span><span class=\"n\">normal</span><span class=\"p\">(</span><span class=\"mi\">0</span><span class=\"p\">,</span><span class=\"n\">σ</span><span class=\"p\">)</span> <span class=\"p\">)</span>\n",
       "    <span class=\"k\">return</span> <span class=\"n\">x</span>\n",
       "\n",
       "<span class=\"c1\"># Constructing the output type explicitely allows to define multiple results,</span>\n",
       "<span class=\"c1\"># and assign a name to each</span>\n",
       "<span class=\"c1\"># NOTE: At present, it is assumed that the TaskOutput subclass is defined</span>\n",
       "<span class=\"c1\"># in the same module as the task function.</span>\n",
       "<span class=\"k\">class</span> <span class=\"nc\">ProcessDataOutput</span><span class=\"p\">(</span><span class=\"n\">TaskOutput</span><span class=\"p\">):</span>\n",
       "    <span class=\"n\">y</span><span class=\"p\">:</span> <span class=\"n\">Array</span><span class=\"p\">[</span><span class=\"nb\">complex</span><span class=\"p\">,</span> <span class=\"mi\">1</span><span class=\"p\">]</span>\n",
       "    <span class=\"n\">S</span><span class=\"p\">:</span> <span class=\"n\">Array</span><span class=\"p\">[</span><span class=\"nb\">float</span><span class=\"p\">,</span> <span class=\"mi\">1</span><span class=\"p\">]</span>\n",
       "<span class=\"nd\">@RecordedTask</span>\n",
       "<span class=\"k\">def</span> <span class=\"nf\">ProcessData</span><span class=\"p\">(</span><span class=\"n\">x</span><span class=\"p\">:</span> <span class=\"n\">Array</span><span class=\"p\">[</span><span class=\"nb\">float</span><span class=\"p\">,</span> <span class=\"mi\">1</span><span class=\"p\">])</span> <span class=\"o\">-&gt;</span> <span class=\"n\">ProcessDataOutput</span><span class=\"p\">:</span>\n",
       "    <span class=\"n\">y</span> <span class=\"o\">=</span> <span class=\"n\">np</span><span class=\"o\">.</span><span class=\"n\">fft</span><span class=\"o\">.</span><span class=\"n\">fft</span><span class=\"p\">(</span><span class=\"n\">x</span><span class=\"p\">)</span>\n",
       "    <span class=\"n\">S</span> <span class=\"o\">=</span> <span class=\"nb\">abs</span><span class=\"p\">(</span><span class=\"n\">y</span><span class=\"o\">*</span><span class=\"n\">y</span><span class=\"o\">.</span><span class=\"n\">conj</span><span class=\"p\">())</span>\n",
       "    <span class=\"k\">return</span> <span class=\"n\">y</span><span class=\"p\">,</span> <span class=\"n\">S</span>\n",
       "</pre></div>\n"
      ],
      "text/plain": [
       "<mackelab_toolbox.utils.CodeStr at 0x7f1aa5dcf490>"
      ]
     },
     "execution_count": 4,
     "metadata": {},
     "output_type": "execute_result"
    }
   ],
   "source": [
    "import fft_example.tasks\n",
    "print(\"fft_example/tasks.py:\")\n",
    "mtb.utils.Code(fft_example.tasks)"
   ]
  },
  {
   "cell_type": "markdown",
   "metadata": {},
   "source": [
    "Note that `GenerateData` is an `MemoizedTask` – for cheap random functions like this, generating data from the three parameters `τ`, `σ` and `seed` is often faster than reading it from disk. Not to mention more memory efficient."
   ]
  },
  {
   "cell_type": "markdown",
   "metadata": {},
   "source": [
    "> **Important**: Each function argument must have a type annotation, and the return type must also be defined.\n",
    "\n",
    "> Also good to know: the object returned by the decorator is a subclass of `Task` rather than a function."
   ]
  },
  {
   "cell_type": "markdown",
   "metadata": {},
   "source": [
    "We define our workflow by first defining different signals we want to process.\n",
    "\n",
    "(On my machine this throws a warning; this should be fixed at some point.)"
   ]
  },
  {
   "cell_type": "code",
   "execution_count": 5,
   "metadata": {},
   "outputs": [],
   "source": [
    "signals = [GenerateData(τ=0.1, σ=0.1, seed=1),\n",
    "           GenerateData(τ=1, σ=0.1, seed=1),\n",
    "           GenerateData(τ=10, σ=0.1, seed=1)]"
   ]
  },
  {
   "cell_type": "markdown",
   "metadata": {},
   "source": [
    "And then how each is processed."
   ]
  },
  {
   "cell_type": "code",
   "execution_count": 6,
   "metadata": {},
   "outputs": [],
   "source": [
    "spectra = [ProcessData(x=x) for x in signals]"
   ]
  },
  {
   "cell_type": "markdown",
   "metadata": {},
   "source": [
    "> Task arguments must be specified with keywords."
   ]
  },
  {
   "cell_type": "markdown",
   "metadata": {},
   "source": [
    "At this point we can pick a task and display its dependencies as a graph"
   ]
  },
  {
   "cell_type": "code",
   "execution_count": 7,
   "metadata": {},
   "outputs": [
    {
     "data": {
      "image/png": "[encoded data removed]",
      "text/plain": [
       "<Figure size 432x432 with 1 Axes>"
      ]
     },
     "metadata": {},
     "output_type": "display_data"
    }
   ],
   "source": [
    "spectra[0].draw(figsize=(6,6))"
   ]
  },
  {
   "cell_type": "markdown",
   "metadata": {},
   "source": [
    "> Graph colours were chosen to work with both light and dark Jupyter themes. You're welcome ;-)"
   ]
  },
  {
   "cell_type": "markdown",
   "metadata": {},
   "source": [
    "At this point the workflow is completely defined. Since we haven't run anything yet, workflow definition can easily be done on a local machine with limited resources."
   ]
  },
  {
   "cell_type": "markdown",
   "metadata": {},
   "source": [
    "# Run the workflow in the notebook"
   ]
  },
  {
   "cell_type": "markdown",
   "metadata": {},
   "source": [
    "To run the workflow locally, just execute the `run()` method of the highest-level task.\n",
    "In our example, each `ProcessData` task will automatically trigger the `GenerateData` task on which it depends.\n",
    "> If you will reuse in-memory tasks, consider turning on in-memory caching (`smttask.config.cache_runs`). Just be careful not to overflow your system memory."
   ]
  },
  {
   "cell_type": "code",
   "execution_count": 8,
   "metadata": {},
   "outputs": [],
   "source": [
    "for S in spectra:\n",
    "    S.run()"
   ]
  },
  {
   "cell_type": "markdown",
   "metadata": {},
   "source": [
    "If we hadn't turned off caching, these runs would be saved to disk, and in the cell below loaded from disk instead of re-run."
   ]
  },
  {
   "cell_type": "code",
   "execution_count": 9,
   "metadata": {},
   "outputs": [
    {
     "data": {
      "image/png": "[encoded data removed]",
      "text/plain": [
       "<Figure size 432x288 with 2 Axes>"
      ]
     },
     "metadata": {
      "needs_background": "light"
     },
     "output_type": "display_data"
    }
   ],
   "source": [
    "fig, (axx, axS) = plt.subplots(1,2)\n",
    "axx.plot(signals[2].run());\n",
    "axS.plot(spectra[2].run()[1]);\n",
    "sns.despine(ax=axx, trim=True); sns.despine(ax=axS, trim=True)\n",
    "axx.set_title(\"signal\"); axS.set_title(\"spectrum\");"
   ]
  },
  {
   "cell_type": "markdown",
   "metadata": {},
   "source": [
    "# Run the task in a shell\n",
    "\n",
    "If you have many tasks to run, you will want to do that in a shell, possibly through a scheduler like [Snakemake](https://snakemake.readthedocs.io), and possibly on a remote machine.\n",
    "\n",
    "To do this, export your workflow by calling a task's `save()` method. You only need to this on the highest level task; dependencies will automatically be included.\n",
    "\n",
    "> Note that to run multiple tasks in parallel, they need to be defined (saved) and run separately. *smttask* provides no scheduling capabilities."
   ]
  },
  {
   "cell_type": "code",
   "execution_count": 10,
   "metadata": {},
   "outputs": [
    {
     "data": {
      "text/plain": [
       "'9618a6841303dd8ba91bdcba4d2d9dd6acdb3c1d'"
      ]
     },
     "execution_count": 10,
     "metadata": {},
     "output_type": "execute_result"
    }
   ],
   "source": [
    "S.digest"
   ]
  },
  {
   "cell_type": "code",
   "execution_count": 11,
   "metadata": {},
   "outputs": [],
   "source": [
    "for S in spectra:\n",
    "    S.save(f\"process-task_{S.digest[:4]}\")"
   ]
  },
  {
   "cell_type": "markdown",
   "metadata": {},
   "source": [
    "After executing the cell above, you should have three task description files in your current directory:"
   ]
  },
  {
   "cell_type": "code",
   "execution_count": 12,
   "metadata": {},
   "outputs": [
    {
     "name": "stdout",
     "output_type": "stream",
     "text": [
      "process-task_1cb8.taskdesc  process-task_9618.taskdesc\n",
      "process-task_1d2a.taskdesc  process-task_ae32.taskdesc\n",
      "process-task_297b.taskdesc  process-task_e8a2.taskdesc\n"
     ]
    }
   ],
   "source": [
    "%ls process-task_*"
   ]
  },
  {
   "cell_type": "markdown",
   "metadata": {},
   "source": [
    "The `save()` method stores a complete definition of the task in a `taskdesc` format (a JSON file with specified schema)."
   ]
  },
  {
   "cell_type": "code",
   "execution_count": 13,
   "metadata": {},
   "outputs": [
    {
     "name": "stdout",
     "output_type": "stream",
     "text": [
      "TaskDesc(taskname='ProcessData', module='tasks', inputs=Inputs(x=GenerateData(τ=10.0, σ=0.1, seed=1)))\n",
      "\n",
      "JSON representation:\n",
      " {\"taskname\": \"ProcessData\", \"module\": \"tasks\", \"inputs\": {\"x\": {\"taskname\": \"GenerateData\", \"module\": \"tasks\", \"inputs\": {\"\\u03c4\": 10.0, \"\\u03c3\": 0.1, \"seed\": 1}}}}\n"
     ]
    }
   ],
   "source": [
    "print(repr(S.desc))\n",
    "print(\"\\nJSON representation:\\n\", S.desc.json())\n",
    "#print(\"\\nJSON schema:\\n\", smttask.base.TaskDesc.schema())"
   ]
  },
  {
   "cell_type": "markdown",
   "metadata": {},
   "source": [
    "To run a task in a shell, activate the same environment you used to create the workflow. Then use *smttask*'s command-line interface to run the `taskdesc` file:\n",
    "\n",
    "```\n",
    "$ smttask run process-task_34d5.taskdesc\n",
    "```"
   ]
  },
  {
   "cell_type": "markdown",
   "metadata": {},
   "source": [
    "> **Remark** The line above assumes that the Sumatra project is part of a package (i.e. something pip-installable). This is generally good practice, and allows project code to be run from anywhere, as long as the package is installed.\n",
    "> If tasks are not part of an installed package, you need to amend the `PYTHONPATH` so that `smttask` can find them.\n",
    ">  ```\n",
    ">  $ PYTHONPATH=. smttask run process-task_34d5.taskdesc\n",
    ">  ```\n",
    "> \\\n",
    "> The value assigned to `PYTHONPATH` should be the directory which was current when *process-task_34d5.taskdesc* was created."
   ]
  },
  {
   "cell_type": "markdown",
   "metadata": {},
   "source": [
    "The command line interface provides a few flags to set the logging level and trigger the debugger.\n",
    "\n",
    "```\n",
    "$ smttask run --help\n",
    "Usage: smttask run [OPTIONS] TASKDESC\n",
    "\n",
    "  Execute the Task defined in TASKDESC.\n",
    "\n",
    "  A taskdesc can be obtained by calling `.desc.save()` on an instantiated\n",
    "  task.\"\n",
    "\n",
    "Options:\n",
    "  --record / --no-record  Use `--no-record` to disable recording (and thereby\n",
    "                          also the check that the version control repository\n",
    "                          is clean).\n",
    "\n",
    "  -v, --verbose           Specify up to 3 times (`-vvv`) to increase the\n",
    "                          logging level which is printed. Default is to print\n",
    "                          only warning and error messages.\n",
    "                          default: warning and up (error, critical)\n",
    "                          -v: info and up\n",
    "                          -vv: debug and up\n",
    "                          -vvv: everything.\n",
    "\n",
    "  -q, --quiet             Turn off warning messages. Specifying multiple times\n",
    "                          will also turn off error and critical messages.\n",
    "\n",
    "  --debug / --no-debug    Launch the debugger before running task.\n",
    "  --help                  Show this message and exit.\n",
    "```"
   ]
  },
  {
   "cell_type": "markdown",
   "metadata": {},
   "source": [
    "## Running on a remote machine\n",
    "\n",
    "Running on a remote machine is as simple as copying the `taskdesc` file to that machine, running `smttask run [taskdesc]` as above, and copying the results back to the local machine.\n",
    "\n",
    "It is easiest if the environment on the remote environment mirrors, both in terms of the installed packages and the directory structure. To mirror packages, use either\n",
    "```python\n",
    "    conda env export\n",
    "```\n",
    "or\n",
    "```python\n",
    "    pip freeze > requirements.txt\n",
    "```\n",
    "To mirror the directory structure, you can of course use `scp` or `rsync`. For a more convenient setup, you may consider [Unison](https://www.cis.upenn.edu/~bcpierce/unison/) both to copy `taskdesc` files onto the remote, and to copy the results back to your machine. *Unison* will only copy new or modified files, so it is friendly to your bandwidth."
   ]
  }
 ],
 "metadata": {
  "kernelspec": {
   "display_name": "Python (smttask)",
   "language": "python",
   "name": "smttask"
  },
  "language_info": {
   "codemirror_mode": {
    "name": "ipython",
    "version": 3
   },
   "file_extension": ".py",
   "mimetype": "text/x-python",
   "name": "python",
   "nbconvert_exporter": "python",
   "pygments_lexer": "ipython3",
   "version": "3.8.5"
  }
 },
 "nbformat": 4,
 "nbformat_minor": 4
}
